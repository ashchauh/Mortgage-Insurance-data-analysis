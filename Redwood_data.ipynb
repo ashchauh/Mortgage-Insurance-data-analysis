{
 "cells": [
  {
   "cell_type": "code",
   "execution_count": 1,
   "metadata": {},
   "outputs": [],
   "source": [
    "import pandas as pd\n",
    "import numpy as np\n",
    "import matplotlib.pyplot as plt\n",
    "import seaborn as sns\n",
    "from sklearn.preprocessing import StandardScaler\n",
    "import scipy"
   ]
  },
  {
   "cell_type": "code",
   "execution_count": 2,
   "metadata": {},
   "outputs": [],
   "source": [
    "#df=pd.read_csv(r'C:\\Users\\achauhan\\Desktop\\Radian\\Data\\Standard Upload_RedwoodFlow_20180619_copy.csv')"
   ]
  },
  {
   "cell_type": "code",
   "execution_count": 3,
   "metadata": {},
   "outputs": [],
   "source": [
    "#df.head(7)"
   ]
  },
  {
   "cell_type": "code",
   "execution_count": 4,
   "metadata": {
    "scrolled": true
   },
   "outputs": [],
   "source": [
    "#df1=pd.ExcelFile(r'C:\\Users\\achauhan\\Desktop\\Radian\\Data\\Standard Upload_RedwoodFlow_20180619')"
   ]
  },
  {
   "cell_type": "code",
   "execution_count": 5,
   "metadata": {},
   "outputs": [],
   "source": [
    "#df=pd.read_csv(r'C:\\Users\\achauhan\\Desktop\\Radian\\Data\\Standard Upload_RedwoodFlow_20180619_copy.csv')"
   ]
  },
  {
   "cell_type": "code",
   "execution_count": 6,
   "metadata": {},
   "outputs": [],
   "source": [
    "#df=pd.read_csv(r'C:\\Users\\achauhan\\Desktop\\Radian\\Data\\Standard Upload_RedwoodFlow_20180619_copy.csv',nrows=441)"
   ]
  },
  {
   "cell_type": "code",
   "execution_count": 7,
   "metadata": {},
   "outputs": [],
   "source": [
    "df1=pd.ExcelFile(r'C:\\Users\\achauhan\\Desktop\\Radian\\Data\\Standard Upload_RedwoodFlow_20180619.xlsx')"
   ]
  },
  {
   "cell_type": "code",
   "execution_count": 8,
   "metadata": {},
   "outputs": [],
   "source": [
    "#df2=df1"
   ]
  },
  {
   "cell_type": "code",
   "execution_count": 9,
   "metadata": {},
   "outputs": [],
   "source": [
    "df=df1.parse()"
   ]
  },
  {
   "cell_type": "code",
   "execution_count": 2,
   "metadata": {},
   "outputs": [],
   "source": [
    "df.info()\n",
    "df.head(10)"
   ]
  },
  {
   "cell_type": "code",
   "execution_count": 3,
   "metadata": {},
   "outputs": [],
   "source": [
    "#df.shape"
   ]
  },
  {
   "cell_type": "code",
   "execution_count": 12,
   "metadata": {},
   "outputs": [
    {
     "name": "stdout",
     "output_type": "stream",
     "text": [
      "<class 'pandas.core.frame.DataFrame'>\n",
      "RangeIndex: 12308 entries, 0 to 12307\n",
      "Columns: 244 entries, Loan Number to Final Compliance Grade\n",
      "dtypes: float64(19), int64(4), object(221)\n",
      "memory usage: 22.9+ MB\n"
     ]
    }
   ],
   "source": [
    "df.info()"
   ]
  },
  {
   "cell_type": "code",
   "execution_count": 13,
   "metadata": {},
   "outputs": [
    {
     "data": {
      "text/plain": [
       "2"
      ]
     },
     "execution_count": 13,
     "metadata": {},
     "output_type": "execute_result"
    }
   ],
   "source": [
    "df.ndim"
   ]
  },
  {
   "cell_type": "code",
   "execution_count": 14,
   "metadata": {},
   "outputs": [
    {
     "data": {
      "text/plain": [
       "Loan Number                           int64\n",
       "Loan Status                          object\n",
       "Sample Group                         object\n",
       "Seller Loan Number                   object\n",
       "Borrower 1 Last Name                 object\n",
       "Borrower 1 First Name                object\n",
       "Borrower 2 Last Name                 object\n",
       "Borrower 2 First Name                object\n",
       "Borrower 3 First Name                object\n",
       "Borrower 3 Last Name                 object\n",
       "Borrower 4 Last Name                 object\n",
       "Borrower 4 First Name                object\n",
       "Borrowing Entity Name                object\n",
       "Address Street                       object\n",
       "Address Street 2                     object\n",
       "Address City                         object\n",
       "Address State                        object\n",
       "Address Zip                           int64\n",
       "Loan Type                            object\n",
       "Product Type                         object\n",
       "Amortization Type                    object\n",
       "Note Status                          object\n",
       "Original Principal Balance           object\n",
       "Note Date                            object\n",
       "Combined Loan Amount                float64\n",
       "First Payment Date                   object\n",
       "Note Rate                            object\n",
       "Note P&I                             object\n",
       "Payment Frequency                    object\n",
       "Maturity Date                        object\n",
       "                                     ...   \n",
       "Qualifying Rate                      object\n",
       "Qualifying P&I                       object\n",
       "DTI Qualifying (Front)              float64\n",
       "DTI Qualifying (Back)               float64\n",
       "Loan Doc Type                        object\n",
       "AUS Underwritten                     object\n",
       "What AUS Was Used                    object\n",
       "AUS Grade                            object\n",
       "HUD 1 Status                         object\n",
       "Disbursement Date                    object\n",
       "Good Faith Estimate Status           object\n",
       "ROR Status                           object\n",
       "Early TIL Status                     object\n",
       "Corrected TIL Status                 object\n",
       "Final TIL Status                     object\n",
       "Active Material Exceptions           object\n",
       "Active Non-Material Exceptions       object\n",
       "Satisfied Exceptions                 object\n",
       "Waived Exceptions                    object\n",
       "Compensating Factors                 object\n",
       "General Comments                     object\n",
       "Loan Level ATR/QM Status             object\n",
       "Initial Overall Grade                object\n",
       "Initial Credit Grade                 object\n",
       "Initial Property Valuation Grade     object\n",
       "Initial Compliance Grade             object\n",
       "Final_Overall_Grade                  object\n",
       "Final Credit Grade                   object\n",
       "Final Property Valuations Grade      object\n",
       "Final Compliance Grade               object\n",
       "Length: 244, dtype: object"
      ]
     },
     "execution_count": 14,
     "metadata": {},
     "output_type": "execute_result"
    }
   ],
   "source": [
    "df.dtypes"
   ]
  },
  {
   "cell_type": "code",
   "execution_count": 6,
   "metadata": {},
   "outputs": [],
   "source": [
    "df.describe()"
   ]
  },
  {
   "cell_type": "code",
   "execution_count": 16,
   "metadata": {},
   "outputs": [
    {
     "data": {
      "text/plain": [
       "count    1.230800e+04\n",
       "mean     7.045753e+05\n",
       "std      3.147527e+05\n",
       "min      0.000000e+00\n",
       "25%      5.320000e+05\n",
       "50%      6.598000e+05\n",
       "75%      8.450000e+05\n",
       "max      6.451250e+06\n",
       "Name: Combined Loan Amount, dtype: float64"
      ]
     },
     "execution_count": 16,
     "metadata": {},
     "output_type": "execute_result"
    }
   ],
   "source": [
    "df['Combined Loan Amount'].describe()"
   ]
  },
  {
   "cell_type": "code",
   "execution_count": 17,
   "metadata": {},
   "outputs": [],
   "source": [
    "#df.iloc[:,11]"
   ]
  },
  {
   "cell_type": "code",
   "execution_count": 18,
   "metadata": {},
   "outputs": [],
   "source": [
    "#df.all"
   ]
  },
  {
   "cell_type": "code",
   "execution_count": 7,
   "metadata": {
    "scrolled": true
   },
   "outputs": [],
   "source": [
    "df['General Comments']"
   ]
  },
  {
   "cell_type": "code",
   "execution_count": 20,
   "metadata": {},
   "outputs": [
    {
     "data": {
      "image/png": "[encoded data removed]",
      "text/plain": [
       "<Figure size 432x288 with 1 Axes>"
      ]
     },
     "metadata": {},
     "output_type": "display_data"
    }
   ],
   "source": [
    "sns.set()\n",
    "_ = plt.hist(df['Combined Loan Amount'])\n",
    "_ = plt.xlabel('Loan amount')\n",
    "_ = plt.ylabel('Number')\n",
    "plt.show()"
   ]
  },
  {
   "cell_type": "code",
   "execution_count": 21,
   "metadata": {},
   "outputs": [
    {
     "data": {
      "image/png": "[encoded data removed]",
      "text/plain": [
       "<Figure size 432x288 with 1 Axes>"
      ]
     },
     "metadata": {},
     "output_type": "display_data"
    }
   ],
   "source": [
    "sns.set()\n",
    "_ = plt.hist(df['Combined Loan Amount'])\n",
    "_ = plt.xlabel('Loan amount')\n",
    "_ = plt.ylabel('Number')\n",
    "plt.show()"
   ]
  },
  {
   "cell_type": "code",
   "execution_count": 22,
   "metadata": {},
   "outputs": [
    {
     "data": {
      "image/png": "[encoded data removed]",
      "text/plain": [
       "<Figure size 432x288 with 1 Axes>"
      ]
     },
     "metadata": {},
     "output_type": "display_data"
    }
   ],
   "source": [
    "_=sns.swarmplot(x='Address Zip', y='Combined Loan Amount', data=df)\n",
    "_=plt.xlabel('Address Zip')\n",
    "_=plt.ylabel('Combined Loan AMount')\n",
    "plt.show()"
   ]
  },
  {
   "cell_type": "code",
   "execution_count": 23,
   "metadata": {},
   "outputs": [],
   "source": [
    "#_ = plt.hist(df['Combined Loan Amount'],df['Address Zip'])\n",
    "#_ = plt.xlabel('Loan amount')\n",
    "#_ = plt.ylabel('Address Zip')\n",
    "#plt.show()\"\"\"\"\"\""
   ]
  },
  {
   "cell_type": "code",
   "execution_count": 24,
   "metadata": {},
   "outputs": [],
   "source": [
    "x=np.sort(df['Combined Loan Amount'])\n",
    "y=np.arange(1,len(x)+1)/len(x)"
   ]
  },
  {
   "cell_type": "code",
   "execution_count": 25,
   "metadata": {
    "scrolled": true
   },
   "outputs": [
    {
     "data": {
      "image/png": "[encoded data removed]",
      "text/plain": [
       "<Figure size 432x288 with 1 Axes>"
      ]
     },
     "metadata": {},
     "output_type": "display_data"
    }
   ],
   "source": [
    "_=plt.plot(x,y,marker='.', linestyle='none')\n",
    "_=plt.xlabel('percent of the loan amount')\n",
    "_=plt.ylabel('ECDF')\n",
    "plt.margins(0.02)\n",
    "plt.show()\n"
   ]
  },
  {
   "cell_type": "code",
   "execution_count": 26,
   "metadata": {
    "scrolled": true
   },
   "outputs": [],
   "source": [
    "#df['Final Overall Grade' ]\n",
    "#df1=df.head(8)\n",
    "#cols_to_transform = df['Final Overall Grade' ]\n",
    "#df_with_dummies = pd.get_dummies(df, columns = df['Final Overall Grade' ])"
   ]
  },
  {
   "cell_type": "code",
   "execution_count": 27,
   "metadata": {},
   "outputs": [],
   "source": [
    "#samples=df['Combined Loan Amount'],df['Final Overall Grade']\n",
    "#scaler=StandardScaler()\n",
    "#scaler.fit(samples)\n",
    "#StandardScalar(copy=True, with_mean=True, with_std=True)\n",
    "#samples_scaled= scaler.transform(samples)"
   ]
  },
  {
   "cell_type": "code",
   "execution_count": null,
   "metadata": {},
   "outputs": [],
   "source": []
  },
  {
   "cell_type": "code",
   "execution_count": null,
   "metadata": {},
   "outputs": [],
   "source": []
  },
  {
   "cell_type": "code",
   "execution_count": 28,
   "metadata": {},
   "outputs": [],
   "source": [
    "#cols_to_transform = df1['Final Overall Grade' ]\n",
    "#df_with_dummies = pd.get_dummies(df1, columns = cols_to_transform)"
   ]
  },
  {
   "cell_type": "code",
   "execution_count": 29,
   "metadata": {},
   "outputs": [],
   "source": [
    "df2 = pd.DataFrame(np.random.randint(low=0, high=10, size=(5, 5)),columns=['a', 'b', 'c', 'd', 'e'])\n",
    "#df2=df2.add(['i','j','k','l','m'],axis=1)"
   ]
  },
  {
   "cell_type": "code",
   "execution_count": null,
   "metadata": {},
   "outputs": [],
   "source": []
  },
  {
   "cell_type": "code",
   "execution_count": 34,
   "metadata": {},
   "outputs": [],
   "source": [
    "#df1['Final Overall Grade' ].dropna()\n",
    "#df1['Combined Loan Amount' ].dropna()\n",
    "#df1['Combined Loan Amount'].dropna()"
   ]
  },
  {
   "cell_type": "code",
   "execution_count": 37,
   "metadata": {
    "scrolled": true
   },
   "outputs": [],
   "source": [
    "#scipy.stats.pearsonr(df1['Combined Loan Amount'],df1[''])\n",
    "#Borrower 1 Total Income"
   ]
  },
  {
   "cell_type": "code",
   "execution_count": null,
   "metadata": {},
   "outputs": [],
   "source": []
  },
  {
   "cell_type": "code",
   "execution_count": 38,
   "metadata": {},
   "outputs": [
    {
     "name": "stdout",
     "output_type": "stream",
     "text": [
      "<class 'pandas.core.frame.DataFrame'>\n",
      "RangeIndex: 12308 entries, 0 to 12307\n",
      "Columns: 244 entries, Loan Number to Final Compliance Grade\n",
      "dtypes: float64(19), int64(4), object(221)\n",
      "memory usage: 22.9+ MB\n"
     ]
    }
   ],
   "source": [
    "df.info()"
   ]
  },
  {
   "cell_type": "code",
   "execution_count": 39,
   "metadata": {},
   "outputs": [],
   "source": [
    "copy_df = df.select_dtypes(include=['object']).copy()"
   ]
  },
  {
   "cell_type": "code",
   "execution_count": 40,
   "metadata": {},
   "outputs": [
    {
     "name": "stdout",
     "output_type": "stream",
     "text": [
      "<class 'pandas.core.frame.DataFrame'>\n",
      "RangeIndex: 12308 entries, 0 to 12307\n",
      "Columns: 221 entries, Loan Status to Final Compliance Grade\n",
      "dtypes: object(221)\n",
      "memory usage: 20.8+ MB\n"
     ]
    }
   ],
   "source": [
    "copy_df.info()"
   ]
  },
  {
   "cell_type": "code",
   "execution_count": 8,
   "metadata": {},
   "outputs": [],
   "source": [
    "copy_df.head(10)"
   ]
  },
  {
   "cell_type": "code",
   "execution_count": 9,
   "metadata": {},
   "outputs": [],
   "source": [
    "print(copy_df.isnull().values.sum())"
   ]
  },
  {
   "cell_type": "code",
   "execution_count": 2,
   "metadata": {},
   "outputs": [],
   "source": [
    "#print(copy_df.isnull().sum())"
   ]
  },
  {
   "cell_type": "code",
   "execution_count": 44,
   "metadata": {},
   "outputs": [],
   "source": [
    "copy_df1=copy_df"
   ]
  },
  {
   "cell_type": "code",
   "execution_count": 45,
   "metadata": {},
   "outputs": [],
   "source": [
    "copy_df1= copy_df1.fillna(copy_df1['Final Compliance Grade'].value_counts().index[0])"
   ]
  },
  {
   "cell_type": "code",
   "execution_count": 10,
   "metadata": {
    "scrolled": true
   },
   "outputs": [],
   "source": [
    "print(copy_df1.isnull().sum())"
   ]
  },
  {
   "cell_type": "code",
   "execution_count": 47,
   "metadata": {},
   "outputs": [
    {
     "name": "stdout",
     "output_type": "stream",
     "text": [
      "0\n"
     ]
    }
   ],
   "source": [
    "print(copy_df1.isnull().values.sum())"
   ]
  },
  {
   "cell_type": "code",
   "execution_count": 48,
   "metadata": {},
   "outputs": [
    {
     "name": "stdout",
     "output_type": "stream",
     "text": [
      "1     8084\n",
      "2     3823\n",
      "3D     183\n",
      "3      182\n",
      "3C      36\n",
      "Name: Final Compliance Grade, dtype: int64\n"
     ]
    }
   ],
   "source": [
    "print(copy_df1['Final Compliance Grade'].value_counts())"
   ]
  },
  {
   "cell_type": "code",
   "execution_count": 49,
   "metadata": {
    "scrolled": false
   },
   "outputs": [
    {
     "name": "stdout",
     "output_type": "stream",
     "text": [
      "1     10704\n",
      "3D     1205\n",
      "2       293\n",
      "3        56\n",
      "3C       50\n",
      "Name: Final Property Valuations Grade, dtype: int64\n"
     ]
    }
   ],
   "source": [
    "print(copy_df1['Final Property Valuations Grade'].value_counts())"
   ]
  },
  {
   "cell_type": "code",
   "execution_count": 50,
   "metadata": {},
   "outputs": [],
   "source": [
    "#labels = copy_df1['Final Property Valuations Grade'].astype('category').copy_df1.categories.tolist()"
   ]
  },
  {
   "cell_type": "code",
   "execution_count": 51,
   "metadata": {},
   "outputs": [],
   "source": [
    "#counts = cat_df_flights['carrier'].value_counts()\n",
    "#sizes = [counts[var_cat] for var_cat in labels]\n",
    "#fig1, ax1 = plt.subplots()\n",
    "#ax1.pie(sizes, labels=labels, autopct='%1.1f%%', shadow=True) #autopct is show the % on plot\n",
    "#ax1.axis('equal')\n",
    "#plt.show()"
   ]
  },
  {
   "cell_type": "code",
   "execution_count": 52,
   "metadata": {},
   "outputs": [],
   "source": [
    "grade_type = copy_df['Final Property Valuations Grade'].value_counts()"
   ]
  },
  {
   "cell_type": "code",
   "execution_count": 53,
   "metadata": {},
   "outputs": [
    {
     "data": {
      "image/png": "[encoded data removed]",
      "text/plain": [
       "<Figure size 432x288 with 1 Axes>"
      ]
     },
     "metadata": {},
     "output_type": "display_data"
    }
   ],
   "source": [
    "sns.set(style=\"darkgrid\")\n",
    "sns.barplot(grade_type.index, grade_type.values, alpha=0.9)\n",
    "plt.title('Frequency Distribution')\n",
    "plt.ylabel('Number of Occurrences', fontsize=12)\n",
    "plt.xlabel('Final Property Valuations Grade', fontsize=12)\n",
    "plt.show()"
   ]
  },
  {
   "cell_type": "code",
   "execution_count": 11,
   "metadata": {
    "scrolled": true
   },
   "outputs": [],
   "source": [
    "df.head(10)"
   ]
  },
  {
   "cell_type": "code",
   "execution_count": 55,
   "metadata": {},
   "outputs": [],
   "source": [
    "#imp_var=copy_df1[['Loan purpose','Origination Channel','Product Type''Active Material exceptions']]"
   ]
  },
  {
   "cell_type": "code",
   "execution_count": 12,
   "metadata": {},
   "outputs": [],
   "source": [
    "df.shape"
   ]
  },
  {
   "cell_type": "code",
   "execution_count": 57,
   "metadata": {},
   "outputs": [
    {
     "data": {
      "text/plain": [
       "Index(['Loan Number', 'Loan Status', 'Sample Group', 'Seller Loan Number',\n",
       "       'Borrower 1 Last Name', 'Borrower 1 First Name', 'Borrower 2 Last Name',\n",
       "       'Borrower 2 First Name', 'Borrower 3 First Name',\n",
       "       'Borrower 3 Last Name',\n",
       "       ...\n",
       "       'General Comments', 'Loan Level ATR/QM Status', 'Initial Overall Grade',\n",
       "       'Initial Credit Grade', 'Initial Property Valuation Grade',\n",
       "       'Initial Compliance Grade', 'Final_Overall_Grade', 'Final Credit Grade',\n",
       "       'Final Property Valuations Grade', 'Final Compliance Grade'],\n",
       "      dtype='object', length=244)"
      ]
     },
     "execution_count": 57,
     "metadata": {},
     "output_type": "execute_result"
    }
   ],
   "source": [
    "df.columns"
   ]
  },
  {
   "cell_type": "code",
   "execution_count": 58,
   "metadata": {},
   "outputs": [
    {
     "data": {
      "text/plain": [
       "RangeIndex(start=0, stop=12308, step=1)"
      ]
     },
     "execution_count": 58,
     "metadata": {},
     "output_type": "execute_result"
    }
   ],
   "source": [
    "df.index\n"
   ]
  },
  {
   "cell_type": "code",
   "execution_count": 59,
   "metadata": {},
   "outputs": [
    {
     "data": {
      "text/plain": [
       "pandas.core.indexes.range.RangeIndex"
      ]
     },
     "execution_count": 59,
     "metadata": {},
     "output_type": "execute_result"
    }
   ],
   "source": [
    "type(df.index)"
   ]
  },
  {
   "cell_type": "code",
   "execution_count": 13,
   "metadata": {},
   "outputs": [],
   "source": [
    "df.iloc[:5 ,:]"
   ]
  },
  {
   "cell_type": "code",
   "execution_count": 14,
   "metadata": {},
   "outputs": [],
   "source": [
    "df.iloc[-5:,:]"
   ]
  },
  {
   "cell_type": "code",
   "execution_count": 62,
   "metadata": {},
   "outputs": [
    {
     "name": "stdout",
     "output_type": "stream",
     "text": [
      "<class 'pandas.core.frame.DataFrame'>\n",
      "RangeIndex: 12308 entries, 0 to 12307\n",
      "Columns: 244 entries, Loan Number to Final Compliance Grade\n",
      "dtypes: float64(19), int64(4), object(221)\n",
      "memory usage: 22.9+ MB\n"
     ]
    }
   ],
   "source": [
    "df.info()"
   ]
  },
  {
   "cell_type": "code",
   "execution_count": 63,
   "metadata": {},
   "outputs": [],
   "source": [
    "#df1=df.iloc[:,:3]"
   ]
  },
  {
   "cell_type": "code",
   "execution_count": 64,
   "metadata": {},
   "outputs": [],
   "source": [
    "#df1.info()"
   ]
  },
  {
   "cell_type": "code",
   "execution_count": 65,
   "metadata": {},
   "outputs": [],
   "source": [
    "#df.iloc[::3,-1]"
   ]
  },
  {
   "cell_type": "code",
   "execution_count": 66,
   "metadata": {},
   "outputs": [
    {
     "name": "stdout",
     "output_type": "stream",
     "text": [
      "<class 'pandas.core.frame.DataFrame'>\n",
      "RangeIndex: 12308 entries, 0 to 12307\n",
      "Columns: 221 entries, Loan Status to Final Compliance Grade\n",
      "dtypes: object(221)\n",
      "memory usage: 20.8+ MB\n"
     ]
    }
   ],
   "source": [
    "copy_df1.info()"
   ]
  },
  {
   "cell_type": "code",
   "execution_count": 67,
   "metadata": {},
   "outputs": [
    {
     "data": {
      "text/plain": [
       "(12308, 221)"
      ]
     },
     "execution_count": 67,
     "metadata": {},
     "output_type": "execute_result"
    }
   ],
   "source": [
    "copy_df1.shape"
   ]
  },
  {
   "cell_type": "code",
   "execution_count": 68,
   "metadata": {},
   "outputs": [
    {
     "data": {
      "text/plain": [
       "(12308, 221)"
      ]
     },
     "execution_count": 68,
     "metadata": {},
     "output_type": "execute_result"
    }
   ],
   "source": [
    "copy_df.shape"
   ]
  },
  {
   "cell_type": "code",
   "execution_count": 69,
   "metadata": {},
   "outputs": [
    {
     "data": {
      "text/plain": [
       "(12308, 244)"
      ]
     },
     "execution_count": 69,
     "metadata": {},
     "output_type": "execute_result"
    }
   ],
   "source": [
    "df.shape"
   ]
  },
  {
   "cell_type": "code",
   "execution_count": 70,
   "metadata": {},
   "outputs": [],
   "source": [
    "status=copy_df['Loan Status']"
   ]
  },
  {
   "cell_type": "code",
   "execution_count": 71,
   "metadata": {},
   "outputs": [
    {
     "name": "stdout",
     "output_type": "stream",
     "text": [
      "<class 'pandas.core.frame.DataFrame'>\n",
      "RangeIndex: 12308 entries, 0 to 12307\n",
      "Columns: 221 entries, Loan Status to Final Compliance Grade\n",
      "dtypes: object(221)\n",
      "memory usage: 20.8+ MB\n"
     ]
    }
   ],
   "source": [
    "copy_df1.info()"
   ]
  },
  {
   "cell_type": "code",
   "execution_count": 15,
   "metadata": {
    "scrolled": true
   },
   "outputs": [],
   "source": [
    "copy_df1.iloc[:5,:]"
   ]
  },
  {
   "cell_type": "code",
   "execution_count": 84,
   "metadata": {},
   "outputs": [],
   "source": [
    "imp=copy_df1[['Loan Purpose', 'Origination Channel','Property Type','Active Material Exceptions','Final_Overall_Grade']]"
   ]
  },
  {
   "cell_type": "code",
   "execution_count": 85,
   "metadata": {},
   "outputs": [],
   "source": [
    "variables=df.iloc[0:1,:]"
   ]
  },
  {
   "cell_type": "code",
   "execution_count": 86,
   "metadata": {},
   "outputs": [
    {
     "data": {
      "text/plain": [
       "244"
      ]
     },
     "execution_count": 86,
     "metadata": {},
     "output_type": "execute_result"
    }
   ],
   "source": [
    "variables.size"
   ]
  },
  {
   "cell_type": "code",
   "execution_count": 87,
   "metadata": {},
   "outputs": [
    {
     "data": {
      "text/plain": [
       "(1, 244)"
      ]
     },
     "execution_count": 87,
     "metadata": {},
     "output_type": "execute_result"
    }
   ],
   "source": [
    "variables.shape"
   ]
  },
  {
   "cell_type": "code",
   "execution_count": 88,
   "metadata": {},
   "outputs": [],
   "source": [
    "loan_pur=imp['Loan Purpose'].values"
   ]
  },
  {
   "cell_type": "code",
   "execution_count": 89,
   "metadata": {},
   "outputs": [
    {
     "data": {
      "text/plain": [
       "array(['Construction/Perm', 'Construction/Perm', 'Cashout Refi', ...,\n",
       "       '(No Data)', '(No Data)', '(No Data)'], dtype=object)"
      ]
     },
     "execution_count": 89,
     "metadata": {},
     "output_type": "execute_result"
    }
   ],
   "source": [
    "loan_pur"
   ]
  },
  {
   "cell_type": "code",
   "execution_count": 90,
   "metadata": {},
   "outputs": [
    {
     "name": "stdout",
     "output_type": "stream",
     "text": [
      "<class 'pandas.core.frame.DataFrame'>\n",
      "RangeIndex: 12308 entries, 0 to 12307\n",
      "Data columns (total 5 columns):\n",
      "Loan Purpose                  12308 non-null object\n",
      "Origination Channel           12308 non-null object\n",
      "Property Type                 12308 non-null object\n",
      "Active Material Exceptions    12308 non-null object\n",
      "Final_Overall_Grade           12308 non-null object\n",
      "dtypes: object(5)\n",
      "memory usage: 480.9+ KB\n"
     ]
    }
   ],
   "source": [
    "imp.info()"
   ]
  },
  {
   "cell_type": "code",
   "execution_count": 91,
   "metadata": {},
   "outputs": [
    {
     "data": {
      "text/plain": [
       "(12308, 5)"
      ]
     },
     "execution_count": 91,
     "metadata": {},
     "output_type": "execute_result"
    }
   ],
   "source": [
    "imp.shape"
   ]
  },
  {
   "cell_type": "code",
   "execution_count": 92,
   "metadata": {},
   "outputs": [
    {
     "data": {
      "text/plain": [
       "Loan Purpose                  object\n",
       "Origination Channel           object\n",
       "Property Type                 object\n",
       "Active Material Exceptions    object\n",
       "Final_Overall_Grade           object\n",
       "dtype: object"
      ]
     },
     "execution_count": 92,
     "metadata": {},
     "output_type": "execute_result"
    }
   ],
   "source": [
    "imp.dtypes"
   ]
  },
  {
   "cell_type": "code",
   "execution_count": 93,
   "metadata": {},
   "outputs": [
    {
     "data": {
      "text/plain": [
       "Index(['Loan Purpose', 'Origination Channel', 'Property Type',\n",
       "       'Active Material Exceptions', 'Final_Overall_Grade'],\n",
       "      dtype='object')"
      ]
     },
     "execution_count": 93,
     "metadata": {},
     "output_type": "execute_result"
    }
   ],
   "source": [
    "imp.columns"
   ]
  },
  {
   "cell_type": "code",
   "execution_count": 94,
   "metadata": {},
   "outputs": [],
   "source": [
    "group=imp.groupby(['Loan Purpose', 'Origination Channel'])"
   ]
  },
  {
   "cell_type": "code",
   "execution_count": 16,
   "metadata": {},
   "outputs": [],
   "source": [
    "group.head()"
   ]
  },
  {
   "cell_type": "code",
   "execution_count": 96,
   "metadata": {},
   "outputs": [],
   "source": [
    "group2=imp.groupby(['Loan Purpose'])"
   ]
  },
  {
   "cell_type": "code",
   "execution_count": 99,
   "metadata": {},
   "outputs": [],
   "source": [
    "group3=imp.groupby(['Final_Overall_Grade'])"
   ]
  },
  {
   "cell_type": "code",
   "execution_count": 100,
   "metadata": {},
   "outputs": [],
   "source": [
    "group4=imp.groupby(['Property Type'])"
   ]
  },
  {
   "cell_type": "code",
   "execution_count": 17,
   "metadata": {},
   "outputs": [],
   "source": [
    "group2.head()"
   ]
  },
  {
   "cell_type": "code",
   "execution_count": 102,
   "metadata": {},
   "outputs": [
    {
     "data": {
      "text/plain": [
       "Loan Purpose\n",
       "(No Data)              597\n",
       "Cashout Refi          1860\n",
       "Construction/Perm      168\n",
       "Home Improvement         2\n",
       "Purchase              7645\n",
       "Rate and Term Refi    2034\n",
       "Streamline               2\n",
       "dtype: int64"
      ]
     },
     "execution_count": 102,
     "metadata": {},
     "output_type": "execute_result"
    }
   ],
   "source": [
    "group2.size()"
   ]
  },
  {
   "cell_type": "code",
   "execution_count": 103,
   "metadata": {},
   "outputs": [
    {
     "name": "stdout",
     "output_type": "stream",
     "text": [
      "Loan Purpose                  0\n",
      "Origination Channel           0\n",
      "Property Type                 0\n",
      "Active Material Exceptions    0\n",
      "Final_Overall_Grade           0\n",
      "dtype: int64\n"
     ]
    }
   ],
   "source": [
    "#find the number of missing values in the dataset\n",
    "print(imp.isnull().sum())"
   ]
  },
  {
   "cell_type": "code",
   "execution_count": 104,
   "metadata": {},
   "outputs": [
    {
     "name": "stdout",
     "output_type": "stream",
     "text": [
      "Purchase              7645\n",
      "Rate and Term Refi    2034\n",
      "Cashout Refi          1860\n",
      "(No Data)              597\n",
      "Construction/Perm      168\n",
      "Streamline               2\n",
      "Home Improvement         2\n",
      "Name: Loan Purpose, dtype: int64\n"
     ]
    }
   ],
   "source": [
    "print(imp['Loan Purpose'].value_counts())"
   ]
  },
  {
   "cell_type": "code",
   "execution_count": 105,
   "metadata": {},
   "outputs": [
    {
     "name": "stdout",
     "output_type": "stream",
     "text": [
      "SFR                      6966\n",
      "Detached PUD             4004\n",
      "Low Rise Condo (1-4)      571\n",
      "High Rise Condo (9+)      175\n",
      "2 Family                  166\n",
      "Mid Rise Condo  (5-8)     113\n",
      "SFR-Attached               86\n",
      "Attached PUD               76\n",
      "3 Family                   46\n",
      "Site Condo                 41\n",
      "4 Family                   36\n",
      "Cooperative                15\n",
      "Rowhouse                   10\n",
      "Condotel                    3\n",
      "Name: Property Type, dtype: int64\n"
     ]
    }
   ],
   "source": [
    "print(imp['Property Type'].value_counts())"
   ]
  },
  {
   "cell_type": "code",
   "execution_count": 106,
   "metadata": {},
   "outputs": [
    {
     "name": "stdout",
     "output_type": "stream",
     "text": [
      "Retail                                               9394\n",
      "Broker                                               1695\n",
      "(No Data)                                            1102\n",
      "Correspondent Flow with delegated underwriting         68\n",
      "Correspondent Flow without delegated underwriting      24\n",
      "Unknown                                                16\n",
      "Correspondent Bulk                                      8\n",
      "Unavailable                                             1\n",
      "Name: Origination Channel, dtype: int64\n"
     ]
    }
   ],
   "source": [
    "print(imp['Origination Channel'].value_counts())"
   ]
  },
  {
   "cell_type": "code",
   "execution_count": 111,
   "metadata": {},
   "outputs": [
    {
     "name": "stdout",
     "output_type": "stream",
     "text": [
      "1     6094\n",
      "2     4521\n",
      "3D    1248\n",
      "3      380\n",
      "3C      65\n",
      "Name: Final_Overall_Grade, dtype: int64\n"
     ]
    }
   ],
   "source": [
    "print(imp['Final_Overall_Grade'].value_counts())"
   ]
  },
  {
   "cell_type": "code",
   "execution_count": 112,
   "metadata": {},
   "outputs": [],
   "source": [
    "#print(imp['Active Material Exceptions'].value_counts())"
   ]
  },
  {
   "cell_type": "code",
   "execution_count": 113,
   "metadata": {},
   "outputs": [
    {
     "data": {
      "text/plain": [
       "5"
      ]
     },
     "execution_count": 113,
     "metadata": {},
     "output_type": "execute_result"
    }
   ],
   "source": [
    "imp['Final_Overall_Grade'].value_counts().count()"
   ]
  },
  {
   "cell_type": "code",
   "execution_count": 114,
   "metadata": {
    "scrolled": true
   },
   "outputs": [
    {
     "data": {
      "text/plain": [
       "8"
      ]
     },
     "execution_count": 114,
     "metadata": {},
     "output_type": "execute_result"
    }
   ],
   "source": [
    "imp['Origination Channel'].value_counts().count()"
   ]
  },
  {
   "cell_type": "code",
   "execution_count": 203,
   "metadata": {},
   "outputs": [
    {
     "data": {
      "text/plain": [
       "SFR                      6966\n",
       "Detached PUD             4004\n",
       "Low Rise Condo (1-4)      571\n",
       "High Rise Condo (9+)      175\n",
       "2 Family                  166\n",
       "Mid Rise Condo  (5-8)     113\n",
       "SFR-Attached               86\n",
       "Attached PUD               76\n",
       "3 Family                   46\n",
       "Site Condo                 41\n",
       "4 Family                   36\n",
       "Cooperative                15\n",
       "Rowhouse                   10\n",
       "Condotel                    3\n",
       "Name: Property Type, dtype: int64"
      ]
     },
     "execution_count": 203,
     "metadata": {},
     "output_type": "execute_result"
    }
   ],
   "source": [
    "imp['Property Type'].value_counts().count()\n",
    "imp['Property Type'].value_counts()"
   ]
  },
  {
   "cell_type": "code",
   "execution_count": 116,
   "metadata": {},
   "outputs": [
    {
     "data": {
      "text/plain": [
       "7"
      ]
     },
     "execution_count": 116,
     "metadata": {},
     "output_type": "execute_result"
    }
   ],
   "source": [
    "imp['Loan Purpose'].value_counts().count()"
   ]
  },
  {
   "cell_type": "code",
   "execution_count": 118,
   "metadata": {
    "scrolled": true
   },
   "outputs": [
    {
     "data": {
      "image/png": "[encoded data removed]",
      "text/plain": [
       "<Figure size 432x288 with 1 Axes>"
      ]
     },
     "metadata": {},
     "output_type": "display_data"
    }
   ],
   "source": [
    "import seaborn as sns\n",
    "import matplotlib.pyplot as plt\n",
    "count1 = imp['Final_Overall_Grade'].value_counts()\n",
    "sns.set(style=\"darkgrid\")\n",
    "sns.barplot(count1.index, count1.values, alpha=0.9)\n",
    "plt.title('Frequency Distribution of Grades')\n",
    "plt.ylabel('Number of Occurrences', fontsize=12)\n",
    "plt.xlabel('Final Overall Grade', fontsize=12)\n",
    "plt.show()"
   ]
  },
  {
   "cell_type": "code",
   "execution_count": 119,
   "metadata": {},
   "outputs": [
    {
     "data": {
      "image/png": "[encoded data removed]",
      "text/plain": [
       "<Figure size 432x288 with 1 Axes>"
      ]
     },
     "metadata": {},
     "output_type": "display_data"
    }
   ],
   "source": [
    "count2 = imp['Origination Channel'].value_counts()\n",
    "sns.set(style=\"darkgrid\")\n",
    "sns.barplot(count2.index, count2.values, alpha=0.9)\n",
    "plt.title('Origination Channel')\n",
    "plt.ylabel('Number of Occurrences', fontsize=12)\n",
    "plt.xlabel('Origination Channel', fontsize=12)\n",
    "plt.show()"
   ]
  },
  {
   "cell_type": "code",
   "execution_count": 122,
   "metadata": {},
   "outputs": [
    {
     "data": {
      "image/png": "[encoded data removed]",
      "text/plain": [
       "<Figure size 432x288 with 1 Axes>"
      ]
     },
     "metadata": {},
     "output_type": "display_data"
    }
   ],
   "source": [
    "count3 = imp['Property Type'].value_counts()\n",
    "sns.set(style=\"darkgrid\")\n",
    "sns.barplot(count3.index, count3.values, alpha=0.9)\n",
    "plt.title('Property Type')\n",
    "plt.ylabel('Number of Occurrences', fontsize=12)\n",
    "plt.xlabel('Property Type', fontsize=12)\n",
    "plt.show()"
   ]
  },
  {
   "cell_type": "code",
   "execution_count": 121,
   "metadata": {},
   "outputs": [
    {
     "data": {
      "image/png": "[encoded data removed]",
      "text/plain": [
       "<Figure size 432x288 with 1 Axes>"
      ]
     },
     "metadata": {},
     "output_type": "display_data"
    }
   ],
   "source": [
    "count4 = imp['Loan Purpose'].value_counts()\n",
    "sns.set(style=\"darkgrid\")\n",
    "sns.barplot(count4.index, count4.values, alpha=0.9)\n",
    "plt.title('Loan Purpose')\n",
    "plt.ylabel('Number of Occurrences', fontsize=12)\n",
    "plt.xlabel('Loan Purpose', fontsize=12)\n",
    "plt.show()"
   ]
  },
  {
   "cell_type": "code",
   "execution_count": null,
   "metadata": {
    "scrolled": true
   },
   "outputs": [],
   "source": [
    "#bal_fin=copy_df.groupby([['Balloon','Final Overall Grade']])"
   ]
  },
  {
   "cell_type": "code",
   "execution_count": 18,
   "metadata": {},
   "outputs": [],
   "source": [
    "#indexing using square brackets\n",
    "copy_df.head()"
   ]
  },
  {
   "cell_type": "code",
   "execution_count": 124,
   "metadata": {},
   "outputs": [
    {
     "data": {
      "text/plain": [
       "'Client Complete'"
      ]
     },
     "execution_count": 124,
     "metadata": {},
     "output_type": "execute_result"
    }
   ],
   "source": [
    "copy_df['Loan Status'][1]"
   ]
  },
  {
   "cell_type": "code",
   "execution_count": 125,
   "metadata": {},
   "outputs": [
    {
     "data": {
      "text/plain": [
       "'2003323'"
      ]
     },
     "execution_count": 125,
     "metadata": {},
     "output_type": "execute_result"
    }
   ],
   "source": [
    "copy_df['Seller Loan Number'][1]"
   ]
  },
  {
   "cell_type": "code",
   "execution_count": 126,
   "metadata": {},
   "outputs": [],
   "source": [
    "#copy_df.'Seller Loan Number'[1]"
   ]
  },
  {
   "cell_type": "code",
   "execution_count": 127,
   "metadata": {},
   "outputs": [
    {
     "data": {
      "text/plain": [
       "'30089636'"
      ]
     },
     "execution_count": 127,
     "metadata": {},
     "output_type": "execute_result"
    }
   ],
   "source": [
    "copy_df.loc[4,'Seller Loan Number']"
   ]
  },
  {
   "cell_type": "code",
   "execution_count": 128,
   "metadata": {},
   "outputs": [
    {
     "data": {
      "text/plain": [
       "'30089636'"
      ]
     },
     "execution_count": 128,
     "metadata": {},
     "output_type": "execute_result"
    }
   ],
   "source": [
    "copy_df.iloc[4,2]"
   ]
  },
  {
   "cell_type": "code",
   "execution_count": 129,
   "metadata": {},
   "outputs": [
    {
     "data": {
      "text/plain": [
       "No           11215\n",
       "(No Data)     1093\n",
       "Name: Balloon, dtype: int64"
      ]
     },
     "execution_count": 129,
     "metadata": {},
     "output_type": "execute_result"
    }
   ],
   "source": [
    "copy_df['Balloon'].value_counts()"
   ]
  },
  {
   "cell_type": "code",
   "execution_count": 130,
   "metadata": {},
   "outputs": [],
   "source": [
    "#copy_df[copy_df['Balloon']=='No'] & copy_df[copy_df['Final Overall Grade']==1]"
   ]
  },
  {
   "cell_type": "code",
   "execution_count": 131,
   "metadata": {},
   "outputs": [],
   "source": [
    "#checking the number of zeros\n",
    "copy_df3=copy_df.copy()"
   ]
  },
  {
   "cell_type": "code",
   "execution_count": 132,
   "metadata": {},
   "outputs": [],
   "source": [
    "x=copy_df3.loc[:,copy_df3.all()]"
   ]
  },
  {
   "cell_type": "code",
   "execution_count": 133,
   "metadata": {},
   "outputs": [
    {
     "data": {
      "text/plain": [
       "pandas.core.frame.DataFrame"
      ]
     },
     "execution_count": 133,
     "metadata": {},
     "output_type": "execute_result"
    }
   ],
   "source": [
    "type(x)"
   ]
  },
  {
   "cell_type": "code",
   "execution_count": 134,
   "metadata": {},
   "outputs": [
    {
     "name": "stdout",
     "output_type": "stream",
     "text": [
      "<class 'pandas.core.frame.DataFrame'>\n",
      "RangeIndex: 12308 entries, 0 to 12307\n",
      "Columns: 221 entries, Loan Status to Final Compliance Grade\n",
      "dtypes: object(221)\n",
      "memory usage: 20.8+ MB\n"
     ]
    }
   ],
   "source": [
    "x.info()"
   ]
  },
  {
   "cell_type": "code",
   "execution_count": 135,
   "metadata": {},
   "outputs": [],
   "source": [
    "y=copy_df3.loc[:,copy_df3.any()]"
   ]
  },
  {
   "cell_type": "code",
   "execution_count": 136,
   "metadata": {},
   "outputs": [
    {
     "name": "stdout",
     "output_type": "stream",
     "text": [
      "<class 'pandas.core.frame.DataFrame'>\n",
      "RangeIndex: 12308 entries, 0 to 12307\n",
      "Columns: 221 entries, Loan Status to Final Compliance Grade\n",
      "dtypes: object(221)\n",
      "memory usage: 20.8+ MB\n"
     ]
    }
   ],
   "source": [
    "y.info()"
   ]
  },
  {
   "cell_type": "code",
   "execution_count": 137,
   "metadata": {},
   "outputs": [],
   "source": [
    "#filtering to remove the NaNs\n",
    "z=copy_df3.loc[:,copy_df3.isnull().any()]"
   ]
  },
  {
   "cell_type": "code",
   "execution_count": 138,
   "metadata": {},
   "outputs": [
    {
     "name": "stdout",
     "output_type": "stream",
     "text": [
      "<class 'pandas.core.frame.DataFrame'>\n",
      "RangeIndex: 12308 entries, 0 to 12307\n",
      "Data columns (total 9 columns):\n",
      "Seller Loan Number                  12307 non-null object\n",
      "Borrower 1 Last Name                12307 non-null object\n",
      "Initial Overall Grade               11867 non-null object\n",
      "Initial Credit Grade                11649 non-null object\n",
      "Initial Property Valuation Grade    11994 non-null object\n",
      "Initial Compliance Grade            11619 non-null object\n",
      "Final Credit Grade                  11465 non-null object\n",
      "Final Property Valuations Grade     11877 non-null object\n",
      "Final Compliance Grade              11429 non-null object\n",
      "dtypes: object(9)\n",
      "memory usage: 865.5+ KB\n"
     ]
    }
   ],
   "source": [
    "z.info()"
   ]
  },
  {
   "cell_type": "code",
   "execution_count": 19,
   "metadata": {
    "scrolled": true
   },
   "outputs": [],
   "source": [
    "#copy_df.Buydown[copy_df['Balloon']=='No']"
   ]
  },
  {
   "cell_type": "code",
   "execution_count": 20,
   "metadata": {},
   "outputs": [],
   "source": [
    "#copy_df['Final_Overall_Grade'[copy_df['Balloon']=='No']]"
   ]
  },
  {
   "cell_type": "code",
   "execution_count": 143,
   "metadata": {},
   "outputs": [],
   "source": [
    "new_df=pd.read_excel(r'C:\\Users\\achauhan\\Desktop\\Radian\\Data\\Standard Upload_RedwoodFlow_20180619.xlsx')"
   ]
  },
  {
   "cell_type": "code",
   "execution_count": 21,
   "metadata": {},
   "outputs": [],
   "source": [
    "#new_df.Final_Overall_Grade[copy_df['Balloon']=='No']"
   ]
  },
  {
   "cell_type": "code",
   "execution_count": 145,
   "metadata": {},
   "outputs": [
    {
     "data": {
      "text/plain": [
       "pandas.core.series.Series"
      ]
     },
     "execution_count": 145,
     "metadata": {},
     "output_type": "execute_result"
    }
   ],
   "source": [
    "type(new_df.Final_Overall_Grade[copy_df['Balloon']=='No'])"
   ]
  },
  {
   "cell_type": "code",
   "execution_count": 146,
   "metadata": {},
   "outputs": [
    {
     "name": "stdout",
     "output_type": "stream",
     "text": [
      "1     5189\n",
      "2     4483\n",
      "3D    1164\n",
      "3      338\n",
      "3C      41\n",
      "Name: Final_Overall_Grade, dtype: int64\n"
     ]
    }
   ],
   "source": [
    "print(new_df.Final_Overall_Grade[copy_df['Balloon']=='No'].value_counts())"
   ]
  },
  {
   "cell_type": "code",
   "execution_count": 147,
   "metadata": {},
   "outputs": [
    {
     "name": "stdout",
     "output_type": "stream",
     "text": [
      "Series([], Name: Final_Overall_Grade, dtype: int64)\n"
     ]
    }
   ],
   "source": [
    "print(new_df.Final_Overall_Grade[copy_df['Balloon']=='No Data'].value_counts())"
   ]
  },
  {
   "cell_type": "code",
   "execution_count": 148,
   "metadata": {},
   "outputs": [
    {
     "data": {
      "text/html": [
       "<div>\n",
       "<style scoped>\n",
       "    .dataframe tbody tr th:only-of-type {\n",
       "        vertical-align: middle;\n",
       "    }\n",
       "\n",
       "    .dataframe tbody tr th {\n",
       "        vertical-align: top;\n",
       "    }\n",
       "\n",
       "    .dataframe thead th {\n",
       "        text-align: right;\n",
       "    }\n",
       "</style>\n",
       "<table border=\"1\" class=\"dataframe\">\n",
       "  <thead>\n",
       "    <tr style=\"text-align: right;\">\n",
       "      <th></th>\n",
       "      <th>Loan Status</th>\n",
       "      <th>Sample Group</th>\n",
       "      <th>Seller Loan Number</th>\n",
       "      <th>Borrower 1 Last Name</th>\n",
       "      <th>Borrower 1 First Name</th>\n",
       "      <th>Borrower 2 Last Name</th>\n",
       "      <th>Borrower 2 First Name</th>\n",
       "      <th>Borrower 3 First Name</th>\n",
       "      <th>Borrower 3 Last Name</th>\n",
       "      <th>Borrower 4 Last Name</th>\n",
       "      <th>...</th>\n",
       "      <th>General Comments</th>\n",
       "      <th>Loan Level ATR/QM Status</th>\n",
       "      <th>Initial Overall Grade</th>\n",
       "      <th>Initial Credit Grade</th>\n",
       "      <th>Initial Property Valuation Grade</th>\n",
       "      <th>Initial Compliance Grade</th>\n",
       "      <th>Final_Overall_Grade</th>\n",
       "      <th>Final Credit Grade</th>\n",
       "      <th>Final Property Valuations Grade</th>\n",
       "      <th>Final Compliance Grade</th>\n",
       "    </tr>\n",
       "  </thead>\n",
       "  <tbody>\n",
       "  </tbody>\n",
       "</table>\n",
       "<p>0 rows × 221 columns</p>\n",
       "</div>"
      ],
      "text/plain": [
       "Empty DataFrame\n",
       "Columns: [Loan Status, Sample Group, Seller Loan Number, Borrower 1 Last Name, Borrower 1 First Name, Borrower 2 Last Name, Borrower 2 First Name, Borrower 3 First Name, Borrower 3 Last Name, Borrower 4 Last Name, Borrower 4 First Name, Borrowing Entity Name, Address Street, Address Street 2, Address City, Address State, Loan Type, Product Type, Amortization Type, Note Status, Original Principal Balance, Note Date, First Payment Date, Note Rate, Note P&I, Payment Frequency, Maturity Date, Note Term, Amortized Term, Balloon, Balloon Term, Interest Only Period, Interest Only Term, Prepayment Penalty, Prepayment Penalty Term, Prepayment Penalty Type, Buydown, Index, Look Back Period, Margin, Rounding Method, Max Rate At First Adj, Min Rate At First Adj, Rate Change Frequency, Payment Change Frequency, First Rate Change Date, First Payment Change Date, Next Rate Change Date, Next Pay Change Date, Periodic Rate Cap, Negative Amortization Principal Cap, Periodic Payment Cap Code, Maximum Rate, Minimum Rate, Lender Name, Origination Channel, Loan Modified, Reason For Modification, Mod Product Type, Modified Note Status, Modified Note Date, Note Amort Type Mod, Loan Amount Mod, Note Rate Mod, Payment Frequency Mod, First Payment Date Mod, Maturity Date Mod, Loan Term Mod, Balloon Mod, Balloon Term Mod, Interest Only Period Mod, Interest Only Term Mod, Index Mod, Lookback Period Mod, Margin Mod, Rounding Method Mod, Max Rate At First Adj Mod, Min Rate At First Adj Mod, Rate Change Frequency Mod, Pay Change Frequency Mod, First Rate Change Date Mod, First Payment Change Date Mod, Next Rate Change Date Mod, Next Pay Change Date Mod, Periodic Rate Cap Mod, Negative Amortization Principal Cap Mod, Periodic Payment Cap Code Mod, Maximum Rate Mod, Minimum Rate Mod, Occupancy, Loan Purpose, Cash To Borrower At Close, Appraisal Status, Appraisal Form, Appraisal Date, Sales Price, Value for LTV, Property Type, Year Built, Location, ...]\n",
       "Index: []\n",
       "\n",
       "[0 rows x 221 columns]"
      ]
     },
     "execution_count": 148,
     "metadata": {},
     "output_type": "execute_result"
    }
   ],
   "source": [
    "copy_df[copy_df['Balloon']=='No Data']"
   ]
  },
  {
   "cell_type": "code",
   "execution_count": 149,
   "metadata": {},
   "outputs": [
    {
     "data": {
      "text/plain": [
       "array(['No', '(No Data)'], dtype=object)"
      ]
     },
     "execution_count": 149,
     "metadata": {},
     "output_type": "execute_result"
    }
   ],
   "source": [
    "copy_df['Balloon'].unique()"
   ]
  },
  {
   "cell_type": "code",
   "execution_count": 151,
   "metadata": {},
   "outputs": [],
   "source": [
    "MI=copy_df['Final_Overall_Grade'][copy_df['Address State']=='MI'].value_counts()"
   ]
  },
  {
   "cell_type": "code",
   "execution_count": 152,
   "metadata": {},
   "outputs": [
    {
     "data": {
      "text/plain": [
       "pandas.core.frame.DataFrame"
      ]
     },
     "execution_count": 152,
     "metadata": {},
     "output_type": "execute_result"
    }
   ],
   "source": [
    "MI\n",
    "MIdf=pd.DataFrame(MI)\n",
    "type(MI)\n",
    "type(MIdf)"
   ]
  },
  {
   "cell_type": "code",
   "execution_count": 155,
   "metadata": {},
   "outputs": [
    {
     "data": {
      "image/png": "[encoded data removed]",
      "text/plain": [
       "<Figure size 432x288 with 1 Axes>"
      ]
     },
     "metadata": {},
     "output_type": "display_data"
    }
   ],
   "source": [
    "countMI = MIdf['Final_Overall_Grade'].value_counts()\n",
    "#sns.set(style=\"darkgrid\")\n",
    "sns.barplot( MIdf['Final_Overall_Grade'],countMI.values)\n",
    "plt.title('Final Overall Grade in Michigan')\n",
    "plt.ylabel('Number of Occurrences', fontsize=12)\n",
    "plt.xlabel('Grade', fontsize=12)\n",
    "plt.show()"
   ]
  },
  {
   "cell_type": "code",
   "execution_count": 156,
   "metadata": {},
   "outputs": [
    {
     "name": "stdout",
     "output_type": "stream",
     "text": [
      "<class 'pandas.core.frame.DataFrame'>\n",
      "Index: 4 entries, 2 to 3\n",
      "Data columns (total 1 columns):\n",
      "Final_Overall_Grade    4 non-null int64\n",
      "dtypes: int64(1)\n",
      "memory usage: 224.0+ bytes\n"
     ]
    }
   ],
   "source": [
    "MIdf.info()"
   ]
  },
  {
   "cell_type": "code",
   "execution_count": 157,
   "metadata": {},
   "outputs": [
    {
     "data": {
      "text/plain": [
       "Index(['2', '1', '3D', '3'], dtype='object')"
      ]
     },
     "execution_count": 157,
     "metadata": {},
     "output_type": "execute_result"
    }
   ],
   "source": [
    "MIdf.index"
   ]
  },
  {
   "cell_type": "code",
   "execution_count": 158,
   "metadata": {},
   "outputs": [
    {
     "data": {
      "text/plain": [
       "<matplotlib.lines.Line2D at 0x12a65080>"
      ]
     },
     "execution_count": 158,
     "metadata": {},
     "output_type": "execute_result"
    },
    {
     "data": {
      "text/plain": [
       "<Figure size 432x288 with 0 Axes>"
      ]
     },
     "metadata": {},
     "output_type": "display_data"
    },
    {
     "data": {
      "image/png": "[encoded data removed]",
      "text/plain": [
       "<Figure size 432x288 with 1 Axes>"
      ]
     },
     "metadata": {},
     "output_type": "display_data"
    }
   ],
   "source": [
    "plt.figure()\n",
    "MIdf.iloc[:,:].plot.bar()\n",
    "plt.axhline(0, color='k')"
   ]
  },
  {
   "cell_type": "code",
   "execution_count": 159,
   "metadata": {},
   "outputs": [
    {
     "data": {
      "text/plain": [
       "FrozenList([None])"
      ]
     },
     "execution_count": 159,
     "metadata": {},
     "output_type": "execute_result"
    }
   ],
   "source": [
    "df.index.names"
   ]
  },
  {
   "cell_type": "code",
   "execution_count": 160,
   "metadata": {},
   "outputs": [
    {
     "data": {
      "text/plain": [
       "FrozenList([None])"
      ]
     },
     "execution_count": 160,
     "metadata": {},
     "output_type": "execute_result"
    }
   ],
   "source": [
    "copy_df.index.names"
   ]
  },
  {
   "cell_type": "code",
   "execution_count": 22,
   "metadata": {},
   "outputs": [],
   "source": [
    "copy_df.head(5)"
   ]
  },
  {
   "cell_type": "code",
   "execution_count": 162,
   "metadata": {},
   "outputs": [],
   "source": [
    "loan_doc=copy_df[['Loan Doc Type', 'Final_Overall_Grade']]"
   ]
  },
  {
   "cell_type": "code",
   "execution_count": 163,
   "metadata": {},
   "outputs": [
    {
     "name": "stdout",
     "output_type": "stream",
     "text": [
      "<class 'pandas.core.frame.DataFrame'>\n",
      "RangeIndex: 12308 entries, 0 to 12307\n",
      "Data columns (total 2 columns):\n",
      "Loan Doc Type          12308 non-null object\n",
      "Final_Overall_Grade    12308 non-null object\n",
      "dtypes: object(2)\n",
      "memory usage: 192.4+ KB\n"
     ]
    }
   ],
   "source": [
    "loan_doc.info()"
   ]
  },
  {
   "cell_type": "code",
   "execution_count": 164,
   "metadata": {},
   "outputs": [
    {
     "data": {
      "text/html": [
       "<div>\n",
       "<style scoped>\n",
       "    .dataframe tbody tr th:only-of-type {\n",
       "        vertical-align: middle;\n",
       "    }\n",
       "\n",
       "    .dataframe tbody tr th {\n",
       "        vertical-align: top;\n",
       "    }\n",
       "\n",
       "    .dataframe thead th {\n",
       "        text-align: right;\n",
       "    }\n",
       "</style>\n",
       "<table border=\"1\" class=\"dataframe\">\n",
       "  <thead>\n",
       "    <tr style=\"text-align: right;\">\n",
       "      <th></th>\n",
       "      <th>Loan Doc Type</th>\n",
       "      <th>Final_Overall_Grade</th>\n",
       "    </tr>\n",
       "  </thead>\n",
       "  <tbody>\n",
       "    <tr>\n",
       "      <th>count</th>\n",
       "      <td>12308</td>\n",
       "      <td>12308</td>\n",
       "    </tr>\n",
       "    <tr>\n",
       "      <th>unique</th>\n",
       "      <td>3</td>\n",
       "      <td>5</td>\n",
       "    </tr>\n",
       "    <tr>\n",
       "      <th>top</th>\n",
       "      <td>Full Doc</td>\n",
       "      <td>1</td>\n",
       "    </tr>\n",
       "    <tr>\n",
       "      <th>freq</th>\n",
       "      <td>10981</td>\n",
       "      <td>6094</td>\n",
       "    </tr>\n",
       "  </tbody>\n",
       "</table>\n",
       "</div>"
      ],
      "text/plain": [
       "       Loan Doc Type Final_Overall_Grade\n",
       "count          12308               12308\n",
       "unique             3                   5\n",
       "top         Full Doc                   1\n",
       "freq           10981                6094"
      ]
     },
     "execution_count": 164,
     "metadata": {},
     "output_type": "execute_result"
    }
   ],
   "source": [
    "loan_doc.describe()"
   ]
  },
  {
   "cell_type": "code",
   "execution_count": 210,
   "metadata": {},
   "outputs": [],
   "source": [
    "loan_doc_agg=loan_doc.groupby(['Loan Doc Type']).count()"
   ]
  },
  {
   "cell_type": "code",
   "execution_count": 212,
   "metadata": {},
   "outputs": [
    {
     "data": {
      "text/html": [
       "<div>\n",
       "<style scoped>\n",
       "    .dataframe tbody tr th:only-of-type {\n",
       "        vertical-align: middle;\n",
       "    }\n",
       "\n",
       "    .dataframe tbody tr th {\n",
       "        vertical-align: top;\n",
       "    }\n",
       "\n",
       "    .dataframe thead th {\n",
       "        text-align: right;\n",
       "    }\n",
       "</style>\n",
       "<table border=\"1\" class=\"dataframe\">\n",
       "  <thead>\n",
       "    <tr style=\"text-align: right;\">\n",
       "      <th></th>\n",
       "      <th>Final_Overall_Grade</th>\n",
       "    </tr>\n",
       "    <tr>\n",
       "      <th>Loan Doc Type</th>\n",
       "      <th></th>\n",
       "    </tr>\n",
       "  </thead>\n",
       "  <tbody>\n",
       "    <tr>\n",
       "      <th>(No Data)</th>\n",
       "      <td>1143</td>\n",
       "    </tr>\n",
       "    <tr>\n",
       "      <th>Full</th>\n",
       "      <td>184</td>\n",
       "    </tr>\n",
       "    <tr>\n",
       "      <th>Full Doc</th>\n",
       "      <td>10981</td>\n",
       "    </tr>\n",
       "  </tbody>\n",
       "</table>\n",
       "</div>"
      ],
      "text/plain": [
       "               Final_Overall_Grade\n",
       "Loan Doc Type                     \n",
       "(No Data)                     1143\n",
       "Full                           184\n",
       "Full Doc                     10981"
      ]
     },
     "execution_count": 212,
     "metadata": {},
     "output_type": "execute_result"
    }
   ],
   "source": [
    "loan_doc.groupby(['Loan Doc Type']).count()"
   ]
  },
  {
   "cell_type": "code",
   "execution_count": 167,
   "metadata": {},
   "outputs": [
    {
     "data": {
      "text/html": [
       "<div>\n",
       "<style scoped>\n",
       "    .dataframe tbody tr th:only-of-type {\n",
       "        vertical-align: middle;\n",
       "    }\n",
       "\n",
       "    .dataframe tbody tr th {\n",
       "        vertical-align: top;\n",
       "    }\n",
       "\n",
       "    .dataframe thead th {\n",
       "        text-align: right;\n",
       "    }\n",
       "</style>\n",
       "<table border=\"1\" class=\"dataframe\">\n",
       "  <thead>\n",
       "    <tr style=\"text-align: right;\">\n",
       "      <th></th>\n",
       "      <th>Final_Overall_Grade</th>\n",
       "    </tr>\n",
       "    <tr>\n",
       "      <th>Loan Doc Type</th>\n",
       "      <th></th>\n",
       "    </tr>\n",
       "  </thead>\n",
       "  <tbody>\n",
       "    <tr>\n",
       "      <th>(No Data)</th>\n",
       "      <td>1143</td>\n",
       "    </tr>\n",
       "    <tr>\n",
       "      <th>Full</th>\n",
       "      <td>184</td>\n",
       "    </tr>\n",
       "    <tr>\n",
       "      <th>Full Doc</th>\n",
       "      <td>10981</td>\n",
       "    </tr>\n",
       "  </tbody>\n",
       "</table>\n",
       "</div>"
      ],
      "text/plain": [
       "               Final_Overall_Grade\n",
       "Loan Doc Type                     \n",
       "(No Data)                     1143\n",
       "Full                           184\n",
       "Full Doc                     10981"
      ]
     },
     "execution_count": 167,
     "metadata": {},
     "output_type": "execute_result"
    }
   ],
   "source": [
    "loan_doc_agg.head()"
   ]
  },
  {
   "cell_type": "code",
   "execution_count": 168,
   "metadata": {},
   "outputs": [
    {
     "data": {
      "text/plain": [
       "Loan Doc Type\n",
       "(No Data)     1143\n",
       "Full           184\n",
       "Full Doc     10981\n",
       "Name: Final_Overall_Grade, dtype: int64"
      ]
     },
     "execution_count": 168,
     "metadata": {},
     "output_type": "execute_result"
    }
   ],
   "source": [
    "loan_doc_agg['Final_Overall_Grade']\n",
    "#loan_doc_agg['Loan Doc Type']"
   ]
  },
  {
   "cell_type": "code",
   "execution_count": 169,
   "metadata": {},
   "outputs": [],
   "source": [
    "loan_doc_agg_piv=loan_doc.pivot_table(columns='Loan Doc Type',aggfunc='count')"
   ]
  },
  {
   "cell_type": "code",
   "execution_count": 170,
   "metadata": {},
   "outputs": [
    {
     "data": {
      "text/html": [
       "<div>\n",
       "<style scoped>\n",
       "    .dataframe tbody tr th:only-of-type {\n",
       "        vertical-align: middle;\n",
       "    }\n",
       "\n",
       "    .dataframe tbody tr th {\n",
       "        vertical-align: top;\n",
       "    }\n",
       "\n",
       "    .dataframe thead th {\n",
       "        text-align: right;\n",
       "    }\n",
       "</style>\n",
       "<table border=\"1\" class=\"dataframe\">\n",
       "  <thead>\n",
       "    <tr style=\"text-align: right;\">\n",
       "      <th>Loan Doc Type</th>\n",
       "      <th>(No Data)</th>\n",
       "      <th>Full</th>\n",
       "      <th>Full Doc</th>\n",
       "    </tr>\n",
       "  </thead>\n",
       "  <tbody>\n",
       "    <tr>\n",
       "      <th>Final_Overall_Grade</th>\n",
       "      <td>1143</td>\n",
       "      <td>184</td>\n",
       "      <td>10981</td>\n",
       "    </tr>\n",
       "  </tbody>\n",
       "</table>\n",
       "</div>"
      ],
      "text/plain": [
       "Loan Doc Type        (No Data)  Full  Full Doc\n",
       "Final_Overall_Grade       1143   184     10981"
      ]
     },
     "execution_count": 170,
     "metadata": {},
     "output_type": "execute_result"
    }
   ],
   "source": [
    "loan_doc_agg_piv.head()"
   ]
  },
  {
   "cell_type": "code",
   "execution_count": 171,
   "metadata": {},
   "outputs": [
    {
     "data": {
      "text/html": [
       "<div>\n",
       "<style scoped>\n",
       "    .dataframe tbody tr th:only-of-type {\n",
       "        vertical-align: middle;\n",
       "    }\n",
       "\n",
       "    .dataframe tbody tr th {\n",
       "        vertical-align: top;\n",
       "    }\n",
       "\n",
       "    .dataframe thead th {\n",
       "        text-align: right;\n",
       "    }\n",
       "</style>\n",
       "<table border=\"1\" class=\"dataframe\">\n",
       "  <thead>\n",
       "    <tr style=\"text-align: right;\">\n",
       "      <th>Loan Doc Type</th>\n",
       "      <th>(No Data)</th>\n",
       "      <th>Full</th>\n",
       "      <th>Full Doc</th>\n",
       "    </tr>\n",
       "  </thead>\n",
       "  <tbody>\n",
       "    <tr>\n",
       "      <th>Final_Overall_Grade</th>\n",
       "      <td>1143</td>\n",
       "      <td>184</td>\n",
       "      <td>10981</td>\n",
       "    </tr>\n",
       "  </tbody>\n",
       "</table>\n",
       "</div>"
      ],
      "text/plain": [
       "Loan Doc Type        (No Data)  Full  Full Doc\n",
       "Final_Overall_Grade       1143   184     10981"
      ]
     },
     "execution_count": 171,
     "metadata": {},
     "output_type": "execute_result"
    }
   ],
   "source": [
    "loan_doc_agg_piv"
   ]
  },
  {
   "cell_type": "code",
   "execution_count": 172,
   "metadata": {},
   "outputs": [],
   "source": [
    "#loan_doc_agg_piv.plot.pie(column='Final_Overall_Grade',subplots=True)"
   ]
  },
  {
   "cell_type": "code",
   "execution_count": 173,
   "metadata": {},
   "outputs": [
    {
     "data": {
      "image/png": "[encoded data removed]",
      "text/plain": [
       "<Figure size 432x288 with 1 Axes>"
      ]
     },
     "metadata": {},
     "output_type": "display_data"
    }
   ],
   "source": [
    "fig1, ax1 = plt.subplots()\n",
    "sizes=loan_doc_agg['Final_Overall_Grade']\n",
    "labels='No Data', 'Full', 'Full Doc'\n",
    "explode = (0.1, 0, 0) \n",
    "ax1.pie(sizes, labels=labels, explode= explode, autopct='%1.1f%%',\n",
    "        shadow=True, startangle=90)\n",
    "ax1.axis('equal')  # Equal aspect ratio ensures that pie is drawn as a circle.\n",
    "\n",
    "plt.show()"
   ]
  },
  {
   "cell_type": "code",
   "execution_count": 25,
   "metadata": {},
   "outputs": [],
   "source": [
    "#fig1, ax1 = plt.subplots()\n",
    "#sizes=loan_doc['Final_Overall_Grade']\n",
    "#labels='No Data', 'Full', 'Full Doc'\n",
    "#explode = (0.1, 0, 0) \n",
    "#ax1.pie(sizes, labels=labels, explode= explode, autopct='%1.1f%%',\n",
    "        #shadow=True, startangle=90)\n",
    "#ax1.axis('equal')  # Equal aspect ratio ensures that pie is drawn as a circle.\n",
    "\n",
    "#plt.show()"
   ]
  },
  {
   "cell_type": "code",
   "execution_count": 26,
   "metadata": {},
   "outputs": [],
   "source": [
    "#loan_doc_pie.plot.pie()"
   ]
  },
  {
   "cell_type": "code",
   "execution_count": 176,
   "metadata": {},
   "outputs": [],
   "source": [
    "#sizes=loan_doc['Final_Overall_Grade']\n",
    "#labels=loan_doc['Loan Doc Type']\n",
    "#plt.pie(sizes, labels='sizes',autopct='%1.0f%%')"
   ]
  },
  {
   "cell_type": "code",
   "execution_count": 27,
   "metadata": {},
   "outputs": [],
   "source": [
    "#copy_df.head()"
   ]
  },
  {
   "cell_type": "code",
   "execution_count": 178,
   "metadata": {},
   "outputs": [],
   "source": [
    "Fog=copy_df.groupby(['Final_Overall_Grade']).count()"
   ]
  },
  {
   "cell_type": "code",
   "execution_count": 179,
   "metadata": {},
   "outputs": [
    {
     "data": {
      "text/plain": [
       "Final_Overall_Grade\n",
       "1     6094\n",
       "2     4521\n",
       "3      380\n",
       "3C      65\n",
       "3D    1248\n",
       "Name: Final TIL Status, dtype: int64"
      ]
     },
     "execution_count": 179,
     "metadata": {},
     "output_type": "execute_result"
    }
   ],
   "source": [
    "Fog['Final TIL Status']"
   ]
  },
  {
   "cell_type": "code",
   "execution_count": 180,
   "metadata": {},
   "outputs": [],
   "source": [
    "ftl=Fog['Final TIL Status']"
   ]
  },
  {
   "cell_type": "code",
   "execution_count": 181,
   "metadata": {},
   "outputs": [
    {
     "data": {
      "text/plain": [
       "<matplotlib.axes._subplots.AxesSubplot at 0x14e16e10>"
      ]
     },
     "execution_count": 181,
     "metadata": {},
     "output_type": "execute_result"
    },
    {
     "data": {
      "image/png": "[encoded data removed]",
      "text/plain": [
       "<Figure size 432x288 with 1 Axes>"
      ]
     },
     "metadata": {},
     "output_type": "display_data"
    }
   ],
   "source": [
    "ftl.plot.pie()"
   ]
  },
  {
   "cell_type": "code",
   "execution_count": 28,
   "metadata": {},
   "outputs": [
    {
     "data": {
      "text/plain": [
       "'fog_count = Fog[\\'Final_Overall_Grade\\'].value_counts()\\nsns.set(style=\"darkgrid\")\\nsns.barplot(fog_count.index, fog_count.values, alpha=0.9)\\nplt.title(\\'Loan Purpose\\')\\nplt.ylabel(\\'Number of Occurrences\\', fontsize=12)\\nplt.xlabel(\\'Carrier\\', fontsize=12)\\nplt.show()'"
      ]
     },
     "execution_count": 28,
     "metadata": {},
     "output_type": "execute_result"
    }
   ],
   "source": [
    "\"\"\"fog_count = Fog['Final_Overall_Grade'].value_counts()\n",
    "sns.set(style=\"darkgrid\")\n",
    "sns.barplot(fog_count.index, fog_count.values, alpha=0.9)\n",
    "plt.title('Loan Purpose')\n",
    "plt.ylabel('Number of Occurrences', fontsize=12)\n",
    "plt.xlabel('Carrier', fontsize=12)\n",
    "plt.show()\"\"\""
   ]
  },
  {
   "cell_type": "code",
   "execution_count": 184,
   "metadata": {},
   "outputs": [
    {
     "data": {
      "text/plain": [
       "Final_Overall_Grade\n",
       "1     6094\n",
       "2     4521\n",
       "3      380\n",
       "3C      65\n",
       "3D    1248\n",
       "Name: Loan Status, dtype: int64"
      ]
     },
     "execution_count": 184,
     "metadata": {},
     "output_type": "execute_result"
    }
   ],
   "source": [
    "Fog['Loan Status']"
   ]
  },
  {
   "cell_type": "code",
   "execution_count": 29,
   "metadata": {},
   "outputs": [],
   "source": [
    "#Fog.head()"
   ]
  },
  {
   "cell_type": "code",
   "execution_count": 186,
   "metadata": {
    "scrolled": true
   },
   "outputs": [
    {
     "data": {
      "image/png": "[encoded data removed]",
      "text/plain": [
       "<Figure size 432x288 with 1 Axes>"
      ]
     },
     "metadata": {},
     "output_type": "display_data"
    }
   ],
   "source": [
    "#copy_df.plot(x='Loan Status', y='Final_Overall_Grade')\n",
    "#Fog.plot(x='Loan Status',subplots=True)\n",
    "plt.scatter(Fog['Loan Status'], Fog['Initial Credit Grade'])\n",
    "plt.show()"
   ]
  },
  {
   "cell_type": "code",
   "execution_count": 187,
   "metadata": {},
   "outputs": [
    {
     "ename": "SyntaxError",
     "evalue": "invalid syntax (<ipython-input-187-88c4877bab49>, line 1)",
     "output_type": "error",
     "traceback": [
      "\u001b[1;36m  File \u001b[1;32m\"<ipython-input-187-88c4877bab49>\"\u001b[1;36m, line \u001b[1;32m1\u001b[0m\n\u001b[1;33m    sizes=\u001b[0m\n\u001b[1;37m          ^\u001b[0m\n\u001b[1;31mSyntaxError\u001b[0m\u001b[1;31m:\u001b[0m invalid syntax\n"
     ]
    }
   ],
   "source": [
    "sizes=\n",
    "fig1, ax1 = plt.subplots()\n",
    "ax1.pie(sizes, explode=explode, labels=labels, autopct='%1.1f%%',\n",
    "        shadow=True, startangle=90)\n",
    "ax1.axis('equal')  # Equal aspect ratio ensures that pie is drawn as a circle.\n",
    "\n",
    "plt.show()"
   ]
  },
  {
   "cell_type": "code",
   "execution_count": 30,
   "metadata": {},
   "outputs": [
    {
     "data": {
      "text/plain": [
       "\"sizes=Fog['Combined Loan Amount']\\nfig1, ax1 = plt.subplots()\\n#labels='No Data', 'Full', 'Full Doc'\\n#explode = (0.1, 0, 0) \\nax1.pie(sizes,  autopct='%1.1f%%',\\n        shadow=True, startangle=90)\\nax1.axis('equal')  # Equal aspect ratio ensures that pie is drawn as a circle.\\n\\nplt.show()\""
      ]
     },
     "execution_count": 30,
     "metadata": {},
     "output_type": "execute_result"
    }
   ],
   "source": [
    "\"\"\"sizes=Fog['Combined Loan Amount']\n",
    "fig1, ax1 = plt.subplots()\n",
    "#labels='No Data', 'Full', 'Full Doc'\n",
    "#explode = (0.1, 0, 0) \n",
    "ax1.pie(sizes,  autopct='%1.1f%%',\n",
    "        shadow=True, startangle=90)\n",
    "ax1.axis('equal')  # Equal aspect ratio ensures that pie is drawn as a circle.\n",
    "\n",
    "plt.show()\"\"\""
   ]
  },
  {
   "cell_type": "code",
   "execution_count": 189,
   "metadata": {},
   "outputs": [],
   "source": [
    "df_state=copy_df[['Address State','Final_Overall_Grade']]"
   ]
  },
  {
   "cell_type": "code",
   "execution_count": 190,
   "metadata": {},
   "outputs": [],
   "source": [
    "df_state_agg=df_state.groupby('Address State').count()"
   ]
  },
  {
   "cell_type": "code",
   "execution_count": 31,
   "metadata": {},
   "outputs": [],
   "source": [
    "#print(df_state_agg)"
   ]
  },
  {
   "cell_type": "code",
   "execution_count": 192,
   "metadata": {},
   "outputs": [],
   "source": [
    "df_pivot=df_state_agg.pivot_table(index='Address State', values='Final_Overall_Grade', aggfunc='mean')"
   ]
  },
  {
   "cell_type": "code",
   "execution_count": 32,
   "metadata": {},
   "outputs": [],
   "source": [
    "#labels=df_state_agg['Address State']"
   ]
  },
  {
   "cell_type": "code",
   "execution_count": 194,
   "metadata": {},
   "outputs": [
    {
     "data": {
      "text/plain": [
       "array([<matplotlib.axes._subplots.AxesSubplot object at 0x00000000136F3438>],\n",
       "      dtype=object)"
      ]
     },
     "execution_count": 194,
     "metadata": {},
     "output_type": "execute_result"
    },
    {
     "data": {
      "image/png": "[encoded data removed]",
      "text/plain": [
       "<Figure size 432x288 with 1 Axes>"
      ]
     },
     "metadata": {},
     "output_type": "display_data"
    }
   ],
   "source": [
    "df_pivot.plot.pie(subplots=True)"
   ]
  },
  {
   "cell_type": "code",
   "execution_count": 195,
   "metadata": {},
   "outputs": [
    {
     "data": {
      "image/png": "[encoded data removed]",
      "text/plain": [
       "<Figure size 432x288 with 1 Axes>"
      ]
     },
     "metadata": {},
     "output_type": "display_data"
    }
   ],
   "source": [
    "sizes=df_pivot\n",
    "fig1, ax1 = plt.subplots()\n",
    "\n",
    "#explode = (0.1, 0, 0) \n",
    "ax1.pie(sizes, autopct='%1.1f%%', shadow=True, startangle=90)\n",
    "ax1.legend(loc=2, labels=df_pivot.index)\n",
    "ax1.axis('equal')  # Equal aspect ratio ensures that pie is drawn as a circle.\n",
    "plt.show()"
   ]
  },
  {
   "cell_type": "code",
   "execution_count": 196,
   "metadata": {},
   "outputs": [],
   "source": [
    "amor_type=copy_df[['Amortization Type','Final_Overall_Grade']]"
   ]
  },
  {
   "cell_type": "code",
   "execution_count": 197,
   "metadata": {},
   "outputs": [],
   "source": [
    "amor_type_agg=amor_type.groupby('Amortization Type').count()"
   ]
  },
  {
   "cell_type": "code",
   "execution_count": 198,
   "metadata": {},
   "outputs": [
    {
     "data": {
      "text/plain": [
       "array([<matplotlib.axes._subplots.AxesSubplot object at 0x00000000125210B8>],\n",
       "      dtype=object)"
      ]
     },
     "execution_count": 198,
     "metadata": {},
     "output_type": "execute_result"
    },
    {
     "data": {
      "image/png": "[encoded data removed]",
      "text/plain": [
       "<Figure size 432x288 with 1 Axes>"
      ]
     },
     "metadata": {},
     "output_type": "display_data"
    }
   ],
   "source": [
    "amor_type_agg.plot.pie(subplots=True)"
   ]
  },
  {
   "cell_type": "code",
   "execution_count": 199,
   "metadata": {},
   "outputs": [
    {
     "data": {
      "text/html": [
       "<div>\n",
       "<style scoped>\n",
       "    .dataframe tbody tr th:only-of-type {\n",
       "        vertical-align: middle;\n",
       "    }\n",
       "\n",
       "    .dataframe tbody tr th {\n",
       "        vertical-align: top;\n",
       "    }\n",
       "\n",
       "    .dataframe thead th {\n",
       "        text-align: right;\n",
       "    }\n",
       "</style>\n",
       "<table border=\"1\" class=\"dataframe\">\n",
       "  <thead>\n",
       "    <tr style=\"text-align: right;\">\n",
       "      <th></th>\n",
       "      <th>Final_Overall_Grade</th>\n",
       "    </tr>\n",
       "    <tr>\n",
       "      <th>Amortization Type</th>\n",
       "      <th></th>\n",
       "    </tr>\n",
       "  </thead>\n",
       "  <tbody>\n",
       "    <tr>\n",
       "      <th>(No Data)</th>\n",
       "      <td>597</td>\n",
       "    </tr>\n",
       "    <tr>\n",
       "      <th>ARM</th>\n",
       "      <td>930</td>\n",
       "    </tr>\n",
       "    <tr>\n",
       "      <th>Fixed</th>\n",
       "      <td>10781</td>\n",
       "    </tr>\n",
       "  </tbody>\n",
       "</table>\n",
       "</div>"
      ],
      "text/plain": [
       "                   Final_Overall_Grade\n",
       "Amortization Type                     \n",
       "(No Data)                          597\n",
       "ARM                                930\n",
       "Fixed                            10781"
      ]
     },
     "execution_count": 199,
     "metadata": {},
     "output_type": "execute_result"
    }
   ],
   "source": [
    "amor_type_agg"
   ]
  },
  {
   "cell_type": "code",
   "execution_count": 200,
   "metadata": {},
   "outputs": [],
   "source": [
    "Note_Status=copy_df[['Note Status', 'Final_Overall_Grade']]"
   ]
  },
  {
   "cell_type": "code",
   "execution_count": 201,
   "metadata": {},
   "outputs": [],
   "source": [
    "#sns.set()\n",
    "#_ = plt.hist(Note_Status['Note Status'])\n",
    "#_ = plt.xlabel('Final_Overall_Grade')\n",
    "#_ = plt.ylabel('Number')\n",
    "#plt.show()"
   ]
  }
 ],
 "metadata": {
  "kernelspec": {
   "display_name": "Python 3",
   "language": "python",
   "name": "python3"
  },
  "language_info": {
   "codemirror_mode": {
    "name": "ipython",
    "version": 3
   },
   "file_extension": ".py",
   "mimetype": "text/x-python",
   "name": "python",
   "nbconvert_exporter": "python",
   "pygments_lexer": "ipython3",
   "version": "3.6.5"
  }
 },
 "nbformat": 4,
 "nbformat_minor": 2
}
