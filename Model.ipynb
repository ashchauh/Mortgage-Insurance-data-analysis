{
 "cells": [
  {
   "cell_type": "code",
   "execution_count": 32,
   "metadata": {},
   "outputs": [],
   "source": [
    "import pandas as pd\n",
    "import numpy as np\n",
    "import matplotlib.pyplot as plt\n",
    "import seaborn as sns\n",
    "from sklearn.preprocessing import StandardScaler\n",
    "import scipy\n",
    "from sklearn.model_selection import train_test_split"
   ]
  },
  {
   "cell_type": "code",
   "execution_count": 2,
   "metadata": {},
   "outputs": [],
   "source": [
    "df=pd.read_excel(r'C:\\Users\\achauhan\\Desktop\\Radian\\Data\\Standard Upload_RedwoodFlow_20180619.xlsx')"
   ]
  },
  {
   "cell_type": "code",
   "execution_count": 33,
   "metadata": {},
   "outputs": [],
   "source": [
    "df_imp=df[['Address City','Address State','Address Zip','Loan Type',\n",
    "         'Amortization Type','Original Principal Balance',\n",
    "         'Note Date','Combined Loan Amount','Note Rate','Note P&I','Note Term',\n",
    "         'Occupancy', 'Loan Purpose','Property Type','Year Built','Occupancy Status',\n",
    "         'LTV', 'Title Status', 'Other Liens', 'Property Tax Amount','Borrower 1 Years On Job',\n",
    "         'Borrower 1 Years In Field','Borrower 1 Self Employed','Borrower 1 First Time Home Buyer',\n",
    "         'Borrower 1 Equifax Credit Score', 'Borrower 1 Experian Credit Score',\n",
    "         'Borrower 1 Transunion Credit Score','Borrower 1 Total Income','Borrower 2 Total Income',\n",
    "         'Representative Credit Score','Total Monthly Income',\n",
    "         'Total Remaining Gross Monthly Income', 'Total Monthly Expenses',\n",
    "         'Primary Residence Expense','Total Assets','Location','Final_Overall_Grade']]"
   ]
  },
  {
   "cell_type": "code",
   "execution_count": 34,
   "metadata": {},
   "outputs": [],
   "source": [
    "df_fg=df['Final_Overall_Grade']"
   ]
  },
  {
   "cell_type": "code",
   "execution_count": 30,
   "metadata": {},
   "outputs": [],
   "source": [
    "df_imp.to_csv(r'C:\\Users\\achauhan\\Desktop\\Radian\\Data\\imp_vars3.csv')"
   ]
  },
  {
   "cell_type": "code",
   "execution_count": 35,
   "metadata": {},
   "outputs": [
    {
     "data": {
      "text/html": [
       "<div>\n",
       "<style scoped>\n",
       "    .dataframe tbody tr th:only-of-type {\n",
       "        vertical-align: middle;\n",
       "    }\n",
       "\n",
       "    .dataframe tbody tr th {\n",
       "        vertical-align: top;\n",
       "    }\n",
       "\n",
       "    .dataframe thead th {\n",
       "        text-align: right;\n",
       "    }\n",
       "</style>\n",
       "<table border=\"1\" class=\"dataframe\">\n",
       "  <thead>\n",
       "    <tr style=\"text-align: right;\">\n",
       "      <th></th>\n",
       "      <th>Address City</th>\n",
       "      <th>Address State</th>\n",
       "      <th>Address Zip</th>\n",
       "      <th>Loan Type</th>\n",
       "      <th>Amortization Type</th>\n",
       "      <th>Original Principal Balance</th>\n",
       "      <th>Note Date</th>\n",
       "      <th>Combined Loan Amount</th>\n",
       "      <th>Note Rate</th>\n",
       "      <th>Note P&amp;I</th>\n",
       "      <th>...</th>\n",
       "      <th>Borrower 1 Total Income</th>\n",
       "      <th>Borrower 2 Total Income</th>\n",
       "      <th>Representative Credit Score</th>\n",
       "      <th>Total Monthly Income</th>\n",
       "      <th>Total Remaining Gross Monthly Income</th>\n",
       "      <th>Total Monthly Expenses</th>\n",
       "      <th>Primary Residence Expense</th>\n",
       "      <th>Total Assets</th>\n",
       "      <th>Location</th>\n",
       "      <th>Final_Overall_Grade</th>\n",
       "    </tr>\n",
       "  </thead>\n",
       "  <tbody>\n",
       "    <tr>\n",
       "      <th>0</th>\n",
       "      <td>CLARKLAKE</td>\n",
       "      <td>MI</td>\n",
       "      <td>49234</td>\n",
       "      <td>Conventional</td>\n",
       "      <td>Fixed</td>\n",
       "      <td>1265000.00</td>\n",
       "      <td>01/20/2017</td>\n",
       "      <td>1265000.0</td>\n",
       "      <td>4.8750</td>\n",
       "      <td>6694.48</td>\n",
       "      <td>...</td>\n",
       "      <td>30457.46</td>\n",
       "      <td>0.00</td>\n",
       "      <td>709</td>\n",
       "      <td>35450.08</td>\n",
       "      <td>23633.32</td>\n",
       "      <td>11816.76</td>\n",
       "      <td>9054.76</td>\n",
       "      <td>496713.06</td>\n",
       "      <td>Suburban</td>\n",
       "      <td>2</td>\n",
       "    </tr>\n",
       "    <tr>\n",
       "      <th>1</th>\n",
       "      <td>ROGERS</td>\n",
       "      <td>MN</td>\n",
       "      <td>55374</td>\n",
       "      <td>Conventional</td>\n",
       "      <td>Fixed</td>\n",
       "      <td>815750.00</td>\n",
       "      <td>04/06/2017</td>\n",
       "      <td>815750.0</td>\n",
       "      <td>4.0000</td>\n",
       "      <td>3894.52</td>\n",
       "      <td>...</td>\n",
       "      <td>20308.57</td>\n",
       "      <td>3863.61</td>\n",
       "      <td>803</td>\n",
       "      <td>24172.18</td>\n",
       "      <td>16225.19</td>\n",
       "      <td>7946.99</td>\n",
       "      <td>5297.33</td>\n",
       "      <td>476099.06</td>\n",
       "      <td>Rural</td>\n",
       "      <td>2</td>\n",
       "    </tr>\n",
       "    <tr>\n",
       "      <th>2</th>\n",
       "      <td>Brooklyn</td>\n",
       "      <td>NY</td>\n",
       "      <td>11215</td>\n",
       "      <td>Conventional</td>\n",
       "      <td>Fixed</td>\n",
       "      <td>800000.00</td>\n",
       "      <td>01/19/2017</td>\n",
       "      <td>800000.0</td>\n",
       "      <td>5.3750</td>\n",
       "      <td>4479.77</td>\n",
       "      <td>...</td>\n",
       "      <td>12807.25</td>\n",
       "      <td>0.00</td>\n",
       "      <td>769</td>\n",
       "      <td>12807.25</td>\n",
       "      <td>7411.64</td>\n",
       "      <td>5395.61</td>\n",
       "      <td>0.00</td>\n",
       "      <td>60883.76</td>\n",
       "      <td>Urban</td>\n",
       "      <td>1</td>\n",
       "    </tr>\n",
       "    <tr>\n",
       "      <th>3</th>\n",
       "      <td>Brooklyn</td>\n",
       "      <td>NY</td>\n",
       "      <td>11215</td>\n",
       "      <td>Conventional</td>\n",
       "      <td>Fixed</td>\n",
       "      <td>800000.00</td>\n",
       "      <td>01/19/2017</td>\n",
       "      <td>800000.0</td>\n",
       "      <td>5.3750</td>\n",
       "      <td>4479.77</td>\n",
       "      <td>...</td>\n",
       "      <td>12807.25</td>\n",
       "      <td>0.00</td>\n",
       "      <td>769</td>\n",
       "      <td>12807.25</td>\n",
       "      <td>7411.64</td>\n",
       "      <td>5395.61</td>\n",
       "      <td>0.00</td>\n",
       "      <td>60883.76</td>\n",
       "      <td>Urban</td>\n",
       "      <td>1</td>\n",
       "    </tr>\n",
       "    <tr>\n",
       "      <th>4</th>\n",
       "      <td>Rockwall</td>\n",
       "      <td>TX</td>\n",
       "      <td>75087</td>\n",
       "      <td>Conventional</td>\n",
       "      <td>Fixed</td>\n",
       "      <td>650000.00</td>\n",
       "      <td>02/14/2017</td>\n",
       "      <td>650000.0</td>\n",
       "      <td>4.5000</td>\n",
       "      <td>3293.45</td>\n",
       "      <td>...</td>\n",
       "      <td>10500.00</td>\n",
       "      <td>9629.62</td>\n",
       "      <td>705</td>\n",
       "      <td>20129.62</td>\n",
       "      <td>12352.53</td>\n",
       "      <td>7777.09</td>\n",
       "      <td>5007.09</td>\n",
       "      <td>558574.23</td>\n",
       "      <td>Suburban</td>\n",
       "      <td>2</td>\n",
       "    </tr>\n",
       "  </tbody>\n",
       "</table>\n",
       "<p>5 rows × 37 columns</p>\n",
       "</div>"
      ],
      "text/plain": [
       "  Address City Address State  Address Zip     Loan Type Amortization Type  \\\n",
       
       
      ]
     },
     "execution_count": 35,
     "metadata": {},
     "output_type": "execute_result"
    }
   ],
   "source": [
    "df_imp.head()"
   ]
  },
  {
   "cell_type": "code",
   "execution_count": 36,
   "metadata": {},
   "outputs": [
    {
     "name": "stdout",
     "output_type": "stream",
     "text": [
      "<class 'pandas.core.frame.DataFrame'>\n",
      "RangeIndex: 12308 entries, 0 to 12307\n",
      "Data columns (total 37 columns):\n",
      "Address City                            12308 non-null object\n",
      "Address State                           12308 non-null object\n",
      "Address Zip                             12308 non-null int64\n",
      "Loan Type                               12308 non-null object\n",
      "Amortization Type                       12308 non-null object\n",
      "Original Principal Balance              12308 non-null object\n",
      "Note Date                               12308 non-null object\n",
      "Combined Loan Amount                    12308 non-null float64\n",
      "Note Rate                               12308 non-null object\n",
      "Note P&I                                12308 non-null object\n",
      "Note Term                               12308 non-null object\n",
      "Occupancy                               12308 non-null object\n",
      "Loan Purpose                            12308 non-null object\n",
      "Property Type                           12308 non-null object\n",
      "Year Built                              12308 non-null object\n",
      "Occupancy Status                        12308 non-null object\n",
      "LTV                                     12308 non-null object\n",
      "Title Status                            12308 non-null object\n",
      "Other Liens                             12308 non-null object\n",
      "Property Tax Amount                     12308 non-null object\n",
      "Borrower 1 Years On Job                 12308 non-null object\n",
      "Borrower 1 Years In Field               12308 non-null object\n",
      "Borrower 1 Self Employed                12308 non-null object\n",
      "Borrower 1 First Time Home Buyer        12308 non-null object\n",
      "Borrower 1 Equifax Credit Score         12308 non-null object\n",
      "Borrower 1 Experian Credit Score        12308 non-null object\n",
      "Borrower 1 Transunion Credit Score      12308 non-null object\n",
      "Borrower 1 Total Income                 12308 non-null object\n",
      "Borrower 2 Total Income                 12308 non-null float64\n",
      "Representative Credit Score             12308 non-null object\n",
      "Total Monthly Income                    12308 non-null float64\n",
      "Total Remaining Gross Monthly Income    12308 non-null float64\n",
      "Total Monthly Expenses                  12308 non-null float64\n",
      "Primary Residence Expense               12308 non-null float64\n",
      "Total Assets                            12308 non-null object\n",
      "Location                                12308 non-null object\n",
      "Final_Overall_Grade                     12308 non-null object\n",
      "dtypes: float64(6), int64(1), object(30)\n",
      "memory usage: 3.5+ MB\n"
     ]
    }
   ],
   "source": [
    "df_imp.info()"
   ]
  },
  {
   "cell_type": "code",
   "execution_count": 37,
   "metadata": {},
   "outputs": [
    {
     "data": {
      "text/plain": [
       "(12308, 37)"
      ]
     },
     "execution_count": 37,
     "metadata": {},
     "output_type": "execute_result"
    }
   ],
   "source": [
    "df_imp.shape"
   ]
  },
  {
   "cell_type": "code",
   "execution_count": 38,
   "metadata": {},
   "outputs": [],
   "source": [
    "df_imp1 = df_imp"
   ]
  },
  {
   "cell_type": "code",
   "execution_count": 39,
   "metadata": {},
   "outputs": [
    {
     "data": {
      "text/plain": [
       "(12308, 37)"
      ]
     },
     "execution_count": 39,
     "metadata": {},
     "output_type": "execute_result"
    }
   ],
   "source": [
    "df_imp1.shape"
   ]
  },
  {
   "cell_type": "code",
   "execution_count": 40,
   "metadata": {},
   "outputs": [
    {
     "data": {
      "text/plain": [
       "80.00        3596\n",
       "75.00         757\n",
       "(No Data)     597\n",
       "90.00         552\n",
       "70.00         527\n",
       "60.00         242\n",
       "65.00         238\n",
       "85.00         144\n",
       "50.00          62\n",
       "66.67          37\n",
       "62.50          25\n",
       "55.00          23\n",
       "58.82          21\n",
       "61.54          20\n",
       "79.99          16\n",
       "57.14          15\n",
       "55.56          15\n",
       "69.23          15\n",
       "63.64          15\n",
       "71.43          15\n",
       "76.92          15\n",
       "58.33          13\n",
       "45.45          12\n",
       "68.00          12\n",
       "40.00          11\n",
       "69.93          11\n",
       "89.90          10\n",
       "64.29          10\n",
       "64.52          10\n",
       "68.75          10\n",
       "             ... \n",
       "74.39           1\n",
       "39.81           1\n",
       "48.05           1\n",
       "40.51           1\n",
       "46.35           1\n",
       "34.59           1\n",
       "42.02           1\n",
       "64.06           1\n",
       "67.53           1\n",
       "56.16           1\n",
       "54.27           1\n",
       "32.73           1\n",
       "18.04           1\n",
       "49.95           1\n",
       "84.62           1\n",
       "61.10           1\n",
       "59.59           1\n",
       "72.77           1\n",
       "74.42           1\n",
       "45.99           1\n",
       "73.14           1\n",
       "67.38           1\n",
       "30.93           1\n",
       "47.83           1\n",
       "65.54           1\n",
       "69.48           1\n",
       "55.13           1\n",
       "28.75           1\n",
       "53.40           1\n",
       "51.70           1\n",
       "Name: LTV, Length: 2927, dtype: int64"
      ]
     },
     "execution_count": 40,
     "metadata": {},
     "output_type": "execute_result"
    }
   ],
   "source": [
    "df[df.LTV != 'No Data']\n",
    "df['LTV'].value_counts()"
   ]
  },
  {
   "cell_type": "code",
   "execution_count": 41,
   "metadata": {},
   "outputs": [
    {
     "data": {
      "text/plain": [
       "(12308, 244)"
      ]
     },
     "execution_count": 41,
     "metadata": {},
     "output_type": "execute_result"
    }
   ],
   "source": [
    "df.shape"
   ]
  },
  {
   "cell_type": "code",
   "execution_count": 42,
   "metadata": {},
   "outputs": [],
   "source": [
    "df_imp=df_imp[(df_imp[['LTV','Original Principal Balance']] != 0).all(axis=1)]"
   ]
  },
  {
   "cell_type": "code",
   "execution_count": 43,
   "metadata": {},
   "outputs": [
    {
     "data": {
      "text/plain": [
       "(12308, 37)"
      ]
     },
     "execution_count": 43,
     "metadata": {},
     "output_type": "execute_result"
    }
   ],
   "source": [
    "df_imp.shape"
   ]
  },
  {
   "cell_type": "code",
   "execution_count": 44,
   "metadata": {},
   "outputs": [],
   "source": [
    "df_imp1=df_imp1[(df_imp1[['LTV','Original Principal Balance']] != 0).all(axis=1)]"
   ]
  },
  {
   "cell_type": "code",
   "execution_count": 45,
   "metadata": {},
   "outputs": [
    {
     "data": {
      "text/plain": [
       "(12308, 37)"
      ]
     },
     "execution_count": 45,
     "metadata": {},
     "output_type": "execute_result"
    }
   ],
   "source": [
    "df_imp1.shape"
   ]
  },
  {
   "cell_type": "code",
   "execution_count": 46,
   "metadata": {},
   "outputs": [],
   "source": [
    "columns=['Address City','Address State','Address Zip','Loan Type',\n",
    "         'Amortization Type','Original Principal Balance',\n",
    "         'Note Date','Combined Loan Amount','Note Rate','Note P&I','Note Term',\n",
    "         'Occupancy', 'Loan Purpose','Property Type','Year Built','Occupancy Status',\n",
    "         'LTV', 'Title Status', 'Other Liens', 'Property Tax Amount','Borrower 1 Years On Job',\n",
    "         'Borrower 1 Years In Field','Borrower 1 Self Employed','Borrower 1 First Time Home Buyer',\n",
    "         'Borrower 1 Equifax Credit Score', 'Borrower 1 Experian Credit Score',\n",
    "         'Borrower 1 Transunion Credit Score','Borrower 1 Total Income','Borrower 2 Total Income',\n",
    "         'Representative Credit Score','Total Monthly Income',\n",
    "         'Total Remaining Gross Monthly Income', 'Total Monthly Expenses',\n",
    "         'Primary Residence Expense','Total Assets','Location']"
   ]
  },
  {
   "cell_type": "code",
   "execution_count": 47,
   "metadata": {},
   "outputs": [],
   "source": [
    "df_imp = df_imp.replace('No Data', pd.np.nan).dropna(axis=0, how='any', subset=columns)"
   ]
  },
  {
   "cell_type": "code",
   "execution_count": 48,
   "metadata": {},
   "outputs": [
    {
     "data": {
      "text/plain": [
       "(12308, 37)"
      ]
     },
     "execution_count": 48,
     "metadata": {},
     "output_type": "execute_result"
    }
   ],
   "source": [
    "df_imp.shape"
   ]
  },
  {
   "cell_type": "code",
   "execution_count": 49,
   "metadata": {},
   "outputs": [
    {
     "name": "stdout",
     "output_type": "stream",
     "text": [
      "<class 'pandas.core.frame.DataFrame'>\n",
      "Int64Index: 12308 entries, 0 to 12307\n",
      "Data columns (total 37 columns):\n",
      "Address City                            12308 non-null object\n",
      "Address State                           12308 non-null object\n",
      "Address Zip                             12308 non-null int64\n",
      "Loan Type                               12308 non-null object\n",
      "Amortization Type                       12308 non-null object\n",
      "Original Principal Balance              12308 non-null object\n",
      "Note Date                               12308 non-null object\n",
      "Combined Loan Amount                    12308 non-null float64\n",
      "Note Rate                               12308 non-null object\n",
      "Note P&I                                12308 non-null object\n",
      "Note Term                               12308 non-null object\n",
      "Occupancy                               12308 non-null object\n",
      "Loan Purpose                            12308 non-null object\n",
      "Property Type                           12308 non-null object\n",
      "Year Built                              12308 non-null object\n",
      "Occupancy Status                        12308 non-null object\n",
      "LTV                                     12308 non-null object\n",
      "Title Status                            12308 non-null object\n",
      "Other Liens                             12308 non-null object\n",
      "Property Tax Amount                     12308 non-null object\n",
      "Borrower 1 Years On Job                 12308 non-null object\n",
      "Borrower 1 Years In Field               12308 non-null object\n",
      "Borrower 1 Self Employed                12308 non-null object\n",
      "Borrower 1 First Time Home Buyer        12308 non-null object\n",
      "Borrower 1 Equifax Credit Score         12308 non-null object\n",
      "Borrower 1 Experian Credit Score        12308 non-null object\n",
      "Borrower 1 Transunion Credit Score      12308 non-null object\n",
      "Borrower 1 Total Income                 12308 non-null object\n",
      "Borrower 2 Total Income                 12308 non-null float64\n",
      "Representative Credit Score             12308 non-null object\n",
      "Total Monthly Income                    12308 non-null float64\n",
      "Total Remaining Gross Monthly Income    12308 non-null float64\n",
      "Total Monthly Expenses                  12308 non-null float64\n",
      "Primary Residence Expense               12308 non-null float64\n",
      "Total Assets                            12308 non-null object\n",
      "Location                                12308 non-null object\n",
      "Final_Overall_Grade                     12308 non-null object\n",
      "dtypes: float64(6), int64(1), object(30)\n",
      "memory usage: 3.6+ MB\n"
     ]
    }
   ],
   "source": [
    "df_imp.info()"
   ]
  },
  {
   "cell_type": "code",
   "execution_count": 50,
   "metadata": {},
   "outputs": [
    {
     "data": {
      "text/html": [
       "<div>\n",
       "<style scoped>\n",
       "    .dataframe tbody tr th:only-of-type {\n",
       "        vertical-align: middle;\n",
       "    }\n",
       "\n",
       "    .dataframe tbody tr th {\n",
       "        vertical-align: top;\n",
       "    }\n",
       "\n",
       "    .dataframe thead th {\n",
       "        text-align: right;\n",
       "    }\n",
       "</style>\n",
       "<table border=\"1\" class=\"dataframe\">\n",
       "  <thead>\n",
       "    <tr style=\"text-align: right;\">\n",
       "      <th></th>\n",
       "      <th>Address City</th>\n",
       "      <th>Address State</th>\n",
       "      <th>Address Zip</th>\n",
       "      <th>Loan Type</th>\n",
       "      <th>Amortization Type</th>\n",
       "      <th>Original Principal Balance</th>\n",
       "      <th>Note Date</th>\n",
       "      <th>Combined Loan Amount</th>\n",
       "      <th>Note Rate</th>\n",
       "      <th>Note P&amp;I</th>\n",
       "      <th>...</th>\n",
       "      <th>Borrower 1 Total Income</th>\n",
       "      <th>Borrower 2 Total Income</th>\n",
       "      <th>Representative Credit Score</th>\n",
       "      <th>Total Monthly Income</th>\n",
       "      <th>Total Remaining Gross Monthly Income</th>\n",
       "      <th>Total Monthly Expenses</th>\n",
       "      <th>Primary Residence Expense</th>\n",
       "      <th>Total Assets</th>\n",
       "      <th>Location</th>\n",
       "      <th>Final_Overall_Grade</th>\n",
       "    </tr>\n",
       "  </thead>\n",
       "  <tbody>\n",
       "    <tr>\n",
       "      <th>0</th>\n",
       "      <td>CLARKLAKE</td>\n",
       "      <td>MI</td>\n",
       "      <td>49234</td>\n",
       "      <td>Conventional</td>\n",
       "      <td>Fixed</td>\n",
       "      <td>1265000.00</td>\n",
       "      <td>01/20/2017</td>\n",
       "      <td>1265000.0</td>\n",
       "      <td>4.8750</td>\n",
       "      <td>6694.48</td>\n",
       "      <td>...</td>\n",
       "      <td>30457.46</td>\n",
       "      <td>0.00</td>\n",
       "      <td>709</td>\n",
       "      <td>35450.08</td>\n",
       "      <td>23633.32</td>\n",
       "      <td>11816.76</td>\n",
       "      <td>9054.76</td>\n",
       "      <td>496713.06</td>\n",
       "      <td>Suburban</td>\n",
       "      <td>2</td>\n",
       "    </tr>\n",
       "    <tr>\n",
       "      <th>1</th>\n",
       "      <td>ROGERS</td>\n",
       "      <td>MN</td>\n",
       "      <td>55374</td>\n",
       "      <td>Conventional</td>\n",
       "      <td>Fixed</td>\n",
       "      <td>815750.00</td>\n",
       "      <td>04/06/2017</td>\n",
       "      <td>815750.0</td>\n",
       "      <td>4.0000</td>\n",
       "      <td>3894.52</td>\n",
       "      <td>...</td>\n",
       "      <td>20308.57</td>\n",
       "      <td>3863.61</td>\n",
       "      <td>803</td>\n",
       "      <td>24172.18</td>\n",
       "      <td>16225.19</td>\n",
       "      <td>7946.99</td>\n",
       "      <td>5297.33</td>\n",
       "      <td>476099.06</td>\n",
       "      <td>Rural</td>\n",
       "      <td>2</td>\n",
       "    </tr>\n",
       "    <tr>\n",
       "      <th>2</th>\n",
       "      <td>Brooklyn</td>\n",
       "      <td>NY</td>\n",
       "      <td>11215</td>\n",
       "      <td>Conventional</td>\n",
       "      <td>Fixed</td>\n",
       "      <td>800000.00</td>\n",
       "      <td>01/19/2017</td>\n",
       "      <td>800000.0</td>\n",
       "      <td>5.3750</td>\n",
       "      <td>4479.77</td>\n",
       "      <td>...</td>\n",
       "      <td>12807.25</td>\n",
       "      <td>0.00</td>\n",
       "      <td>769</td>\n",
       "      <td>12807.25</td>\n",
       "      <td>7411.64</td>\n",
       "      <td>5395.61</td>\n",
       "      <td>0.00</td>\n",
       "      <td>60883.76</td>\n",
       "      <td>Urban</td>\n",
       "      <td>1</td>\n",
       "    </tr>\n",
       "    <tr>\n",
       "      <th>3</th>\n",
       "      <td>Brooklyn</td>\n",
       "      <td>NY</td>\n",
       "      <td>11215</td>\n",
       "      <td>Conventional</td>\n",
       "      <td>Fixed</td>\n",
       "      <td>800000.00</td>\n",
       "      <td>01/19/2017</td>\n",
       "      <td>800000.0</td>\n",
       "      <td>5.3750</td>\n",
       "      <td>4479.77</td>\n",
       "      <td>...</td>\n",
       "      <td>12807.25</td>\n",
       "      <td>0.00</td>\n",
       "      <td>769</td>\n",
       "      <td>12807.25</td>\n",
       "      <td>7411.64</td>\n",
       "      <td>5395.61</td>\n",
       "      <td>0.00</td>\n",
       "      <td>60883.76</td>\n",
       "      <td>Urban</td>\n",
       "      <td>1</td>\n",
       "    </tr>\n",
       "    <tr>\n",
       "      <th>4</th>\n",
       "      <td>Rockwall</td>\n",
       "      <td>TX</td>\n",
       "      <td>75087</td>\n",
       "      <td>Conventional</td>\n",
       "      <td>Fixed</td>\n",
       "      <td>650000.00</td>\n",
       "      <td>02/14/2017</td>\n",
       "      <td>650000.0</td>\n",
       "      <td>4.5000</td>\n",
       "      <td>3293.45</td>\n",
       "      <td>...</td>\n",
       "      <td>10500.00</td>\n",
       "      <td>9629.62</td>\n",
       "      <td>705</td>\n",
       "      <td>20129.62</td>\n",
       "      <td>12352.53</td>\n",
       "      <td>7777.09</td>\n",
       "      <td>5007.09</td>\n",
       "      <td>558574.23</td>\n",
       "      <td>Suburban</td>\n",
       "      <td>2</td>\n",
       "    </tr>\n",
       "  </tbody>\n",
       "</table>\n",
       "<p>5 rows × 37 columns</p>\n",
       "</div>"
      ],
      "text/plain": [
       "  Address City Address State  Address Zip     Loan Type Amortization Type  \\\n",
     
      ]
     },
     "execution_count": 50,
     "metadata": {},
     "output_type": "execute_result"
    }
   ],
   "source": [
    "df_imp.head()"
   ]
  },
  {
   "cell_type": "code",
   "execution_count": 51,
   "metadata": {},
   "outputs": [
    {
     "data": {
      "text/html": [
       "<div>\n",
       "<style scoped>\n",
       "    .dataframe tbody tr th:only-of-type {\n",
       "        vertical-align: middle;\n",
       "    }\n",
       "\n",
       "    .dataframe tbody tr th {\n",
       "        vertical-align: top;\n",
       "    }\n",
       "\n",
       "    .dataframe thead th {\n",
       "        text-align: right;\n",
       "    }\n",
       "</style>\n",
       "<table border=\"1\" class=\"dataframe\">\n",
       "  <thead>\n",
       "    <tr style=\"text-align: right;\">\n",
       "      <th></th>\n",
       "      <th>Address City</th>\n",
       "      <th>Address State</th>\n",
       "      <th>Address Zip</th>\n",
       "      <th>Loan Type</th>\n",
       "      <th>Amortization Type</th>\n",
       "      <th>Original Principal Balance</th>\n",
       "      <th>Note Date</th>\n",
       "      <th>Combined Loan Amount</th>\n",
       "      <th>Note Rate</th>\n",
       "      <th>Note P&amp;I</th>\n",
       "      <th>...</th>\n",
       "      <th>Borrower 1 Total Income</th>\n",
       "      <th>Borrower 2 Total Income</th>\n",
       "      <th>Representative Credit Score</th>\n",
       "      <th>Total Monthly Income</th>\n",
       "      <th>Total Remaining Gross Monthly Income</th>\n",
       "      <th>Total Monthly Expenses</th>\n",
       "      <th>Primary Residence Expense</th>\n",
       "      <th>Total Assets</th>\n",
       "      <th>Location</th>\n",
       "      <th>Final_Overall_Grade</th>\n",
       "    </tr>\n",
       "  </thead>\n",
       "  <tbody>\n",
       "    <tr>\n",
       "      <th>0</th>\n",
       "      <td>CLARKLAKE</td>\n",
       "      <td>MI</td>\n",
       "      <td>49234</td>\n",
       "      <td>Conventional</td>\n",
       "      <td>Fixed</td>\n",
       "      <td>1265000.00</td>\n",
       "      <td>01/20/2017</td>\n",
       "      <td>1265000.0</td>\n",
       "      <td>4.8750</td>\n",
       "      <td>6694.48</td>\n",
       "      <td>...</td>\n",
       "      <td>30457.46</td>\n",
       "      <td>0.00</td>\n",
       "      <td>709</td>\n",
       "      <td>35450.08</td>\n",
       "      <td>23633.32</td>\n",
       "      <td>11816.76</td>\n",
       "      <td>9054.76</td>\n",
       "      <td>496713.06</td>\n",
       "      <td>Suburban</td>\n",
       "      <td>2</td>\n",
       "    </tr>\n",
       "    <tr>\n",
       "      <th>1</th>\n",
       "      <td>ROGERS</td>\n",
       "      <td>MN</td>\n",
       "      <td>55374</td>\n",
       "      <td>Conventional</td>\n",
       "      <td>Fixed</td>\n",
       "      <td>815750.00</td>\n",
       "      <td>04/06/2017</td>\n",
       "      <td>815750.0</td>\n",
       "      <td>4.0000</td>\n",
       "      <td>3894.52</td>\n",
       "      <td>...</td>\n",
       "      <td>20308.57</td>\n",
       "      <td>3863.61</td>\n",
       "      <td>803</td>\n",
       "      <td>24172.18</td>\n",
       "      <td>16225.19</td>\n",
       "      <td>7946.99</td>\n",
       "      <td>5297.33</td>\n",
       "      <td>476099.06</td>\n",
       "      <td>Rural</td>\n",
       "      <td>2</td>\n",
       "    </tr>\n",
       "    <tr>\n",
       "      <th>2</th>\n",
       "      <td>Brooklyn</td>\n",
       "      <td>NY</td>\n",
       "      <td>11215</td>\n",
       "      <td>Conventional</td>\n",
       "      <td>Fixed</td>\n",
       "      <td>800000.00</td>\n",
       "      <td>01/19/2017</td>\n",
       "      <td>800000.0</td>\n",
       "      <td>5.3750</td>\n",
       "      <td>4479.77</td>\n",
       "      <td>...</td>\n",
       "      <td>12807.25</td>\n",
       "      <td>0.00</td>\n",
       "      <td>769</td>\n",
       "      <td>12807.25</td>\n",
       "      <td>7411.64</td>\n",
       "      <td>5395.61</td>\n",
       "      <td>0.00</td>\n",
       "      <td>60883.76</td>\n",
       "      <td>Urban</td>\n",
       "      <td>1</td>\n",
       "    </tr>\n",
       "    <tr>\n",
       "      <th>3</th>\n",
       "      <td>Brooklyn</td>\n",
       "      <td>NY</td>\n",
       "      <td>11215</td>\n",
       "      <td>Conventional</td>\n",
       "      <td>Fixed</td>\n",
       "      <td>800000.00</td>\n",
       "      <td>01/19/2017</td>\n",
       "      <td>800000.0</td>\n",
       "      <td>5.3750</td>\n",
       "      <td>4479.77</td>\n",
       "      <td>...</td>\n",
       "      <td>12807.25</td>\n",
       "      <td>0.00</td>\n",
       "      <td>769</td>\n",
       "      <td>12807.25</td>\n",
       "      <td>7411.64</td>\n",
       "      <td>5395.61</td>\n",
       "      <td>0.00</td>\n",
       "      <td>60883.76</td>\n",
       "      <td>Urban</td>\n",
       "      <td>1</td>\n",
       "    </tr>\n",
       "    <tr>\n",
       "      <th>4</th>\n",
       "      <td>Rockwall</td>\n",
       "      <td>TX</td>\n",
       "      <td>75087</td>\n",
       "      <td>Conventional</td>\n",
       "      <td>Fixed</td>\n",
       "      <td>650000.00</td>\n",
       "      <td>02/14/2017</td>\n",
       "      <td>650000.0</td>\n",
       "      <td>4.5000</td>\n",
       "      <td>3293.45</td>\n",
       "      <td>...</td>\n",
       "      <td>10500.00</td>\n",
       "      <td>9629.62</td>\n",
       "      <td>705</td>\n",
       "      <td>20129.62</td>\n",
       "      <td>12352.53</td>\n",
       "      <td>7777.09</td>\n",
       "      <td>5007.09</td>\n",
       "      <td>558574.23</td>\n",
       "      <td>Suburban</td>\n",
       "      <td>2</td>\n",
       "    </tr>\n",
       "  </tbody>\n",
       "</table>\n",
       "<p>5 rows × 37 columns</p>\n",
       "</div>"
      ],
      "text/plain": [
       "  Address City Address State  Address Zip     Loan Type Amortization Type  \\\n",
     
      ]
     },
     "execution_count": 51,
     "metadata": {},
     "output_type": "execute_result"
    }
   ],
   "source": [
    "df_imp.head()"
   ]
  },
  {
   "cell_type": "code",
   "execution_count": 52,
   "metadata": {},
   "outputs": [
    {
     "data": {
      "text/plain": [
       "Fixed        10781\n",
       "ARM            930\n",
       "(No Data)      597\n",
       "Name: Amortization Type, dtype: int64"
      ]
     },
     "execution_count": 52,
     "metadata": {},
     "output_type": "execute_result"
    }
   ],
   "source": [
    "df_imp['Amortization Type'].value_counts()"
   ]
  },
  {
   "cell_type": "code",
   "execution_count": 53,
   "metadata": {},
   "outputs": [],
   "source": [
    "df_final=pd.read_csv(r'C:\\Users\\achauhan\\Desktop\\Radian\\Data\\Imp_var1.csv')"
   ]
  },
  {
   "cell_type": "code",
   "execution_count": 54,
   "metadata": {},
   "outputs": [
    {
     "data": {
      "text/plain": [
       "(11129, 37)"
      ]
     },
     "execution_count": 54,
     "metadata": {},
     "output_type": "execute_result"
    }
   ],
   "source": [
    "df_final.shape"
   ]
  },
  {
   "cell_type": "code",
   "execution_count": 55,
   "metadata": {},
   "outputs": [
    {
     "data": {
      "text/html": [
       "<div>\n",
       "<style scoped>\n",
       "    .dataframe tbody tr th:only-of-type {\n",
       "        vertical-align: middle;\n",
       "    }\n",
       "\n",
       "    .dataframe tbody tr th {\n",
       "        vertical-align: top;\n",
       "    }\n",
       "\n",
       "    .dataframe thead th {\n",
       "        text-align: right;\n",
       "    }\n",
       "</style>\n",
       "<table border=\"1\" class=\"dataframe\">\n",
       "  <thead>\n",
       "    <tr style=\"text-align: right;\">\n",
       "      <th></th>\n",
       "      <th>Unnamed: 0</th>\n",
       "      <th>Address City</th>\n",
       "      <th>Address State</th>\n",
       "      <th>Address Zip</th>\n",
       "      <th>Loan Type</th>\n",
       "      <th>Amortization Type</th>\n",
       "      <th>Original Principal Balance</th>\n",
       "      <th>Note Date</th>\n",
       "      <th>Combined Loan Amount</th>\n",
       "      <th>Note Rate</th>\n",
       "      <th>...</th>\n",
       "      <th>Borrower 1 Transunion Credit Score</th>\n",
       "      <th>Borrower 1 Total Income</th>\n",
       "      <th>Borrower 2 Total Income</th>\n",
       "      <th>Representative Credit Score</th>\n",
       "      <th>Total Monthly Income</th>\n",
       "      <th>Total Remaining Gross Monthly Income</th>\n",
       "      <th>Total Monthly Expenses</th>\n",
       "      <th>Primary Residence Expense</th>\n",
       "      <th>Total Assets</th>\n",
       "      <th>Location</th>\n",
       "    </tr>\n",
       "  </thead>\n",
       "  <tbody>\n",
       "    <tr>\n",
       "      <th>0</th>\n",
       "      <td>0</td>\n",
       "      <td>CLARKLAKE</td>\n",
       "      <td>MI</td>\n",
       "      <td>49234</td>\n",
       "      <td>Conventional</td>\n",
       "      <td>Fixed</td>\n",
       "      <td>1265000.0</td>\n",
       "      <td>1/20/2017</td>\n",
       "      <td>1265000.0</td>\n",
       "      <td>4.875</td>\n",
       "      <td>...</td>\n",
       "      <td>723</td>\n",
       "      <td>30457.46</td>\n",
       "      <td>0.00</td>\n",
       "      <td>709</td>\n",
       "      <td>35450.08</td>\n",
       "      <td>23633.32</td>\n",
       "      <td>11816.76</td>\n",
       "      <td>9054.76</td>\n",
       "      <td>496713.06</td>\n",
       "      <td>Suburban</td>\n",
       "    </tr>\n",
       "    <tr>\n",
       "      <th>1</th>\n",
       "      <td>1</td>\n",
       "      <td>ROGERS</td>\n",
       "      <td>MN</td>\n",
       "      <td>55374</td>\n",
       "      <td>Conventional</td>\n",
       "      <td>Fixed</td>\n",
       "      <td>815750.0</td>\n",
       "      <td>4/6/2017</td>\n",
       "      <td>815750.0</td>\n",
       "      <td>4.000</td>\n",
       "      <td>...</td>\n",
       "      <td>804</td>\n",
       "      <td>20308.57</td>\n",
       "      <td>3863.61</td>\n",
       "      <td>803</td>\n",
       "      <td>24172.18</td>\n",
       "      <td>16225.19</td>\n",
       "      <td>7946.99</td>\n",
       "      <td>5297.33</td>\n",
       "      <td>476099.06</td>\n",
       "      <td>Rural</td>\n",
       "    </tr>\n",
       "    <tr>\n",
       "      <th>2</th>\n",
       "      <td>2</td>\n",
       "      <td>Brooklyn</td>\n",
       "      <td>NY</td>\n",
       "      <td>11215</td>\n",
       "      <td>Conventional</td>\n",
       "      <td>Fixed</td>\n",
       "      <td>800000.0</td>\n",
       "      <td>1/19/2017</td>\n",
       "      <td>800000.0</td>\n",
       "      <td>5.375</td>\n",
       "      <td>...</td>\n",
       "      <td>776</td>\n",
       "      <td>12807.25</td>\n",
       "      <td>0.00</td>\n",
       "      <td>769</td>\n",
       "      <td>12807.25</td>\n",
       "      <td>7411.64</td>\n",
       "      <td>5395.61</td>\n",
       "      <td>0.00</td>\n",
       "      <td>60883.76</td>\n",
       "      <td>Urban</td>\n",
       "    </tr>\n",
       "    <tr>\n",
       "      <th>3</th>\n",
       "      <td>3</td>\n",
       "      <td>Brooklyn</td>\n",
       "      <td>NY</td>\n",
       "      <td>11215</td>\n",
       "      <td>Conventional</td>\n",
       "      <td>Fixed</td>\n",
       "      <td>800000.0</td>\n",
       "      <td>1/19/2017</td>\n",
       "      <td>800000.0</td>\n",
       "      <td>5.375</td>\n",
       "      <td>...</td>\n",
       "      <td>776</td>\n",
       "      <td>12807.25</td>\n",
       "      <td>0.00</td>\n",
       "      <td>769</td>\n",
       "      <td>12807.25</td>\n",
       "      <td>7411.64</td>\n",
       "      <td>5395.61</td>\n",
       "      <td>0.00</td>\n",
       "      <td>60883.76</td>\n",
       "      <td>Urban</td>\n",
       "    </tr>\n",
       "    <tr>\n",
       "      <th>4</th>\n",
       "      <td>4</td>\n",
       "      <td>Rockwall</td>\n",
       "      <td>TX</td>\n",
       "      <td>75087</td>\n",
       "      <td>Conventional</td>\n",
       "      <td>Fixed</td>\n",
       "      <td>650000.0</td>\n",
       "      <td>2/14/2017</td>\n",
       "      <td>650000.0</td>\n",
       "      <td>4.500</td>\n",
       "      <td>...</td>\n",
       "      <td>740</td>\n",
       "      <td>10500</td>\n",
       "      <td>9629.62</td>\n",
       "      <td>705</td>\n",
       "      <td>20129.62</td>\n",
       "      <td>12352.53</td>\n",
       "      <td>7777.09</td>\n",
       "      <td>5007.09</td>\n",
       "      <td>558574.23</td>\n",
       "      <td>Suburban</td>\n",
       "    </tr>\n",
       "  </tbody>\n",
       "</table>\n",
       "<p>5 rows × 37 columns</p>\n",
       "</div>"
      ],
      "text/plain": [
       "   Unnamed: 0 Address City Address State  Address Zip     Loan Type  \\\n",
    
      ]
     },
     "execution_count": 55,
     "metadata": {},
     "output_type": "execute_result"
    }
   ],
   "source": [
    "df_final.head()"
   ]
  },
  {
   "cell_type": "code",
   "execution_count": 56,
   "metadata": {},
   "outputs": [
    {
     "data": {
      "text/plain": [
       "Fixed    10203\n",
       "ARM        926\n",
       "Name: Amortization Type, dtype: int64"
      ]
     },
     "execution_count": 56,
     "metadata": {},
     "output_type": "execute_result"
    }
   ],
   "source": [
    "df_final['Amortization Type'].value_counts()"
   ]
  },
  {
   "cell_type": "code",
   "execution_count": 57,
   "metadata": {},
   "outputs": [
    {
     "data": {
      "text/plain": [
       "1000000.0    201\n",
       "500000.0     175\n",
       "600000.0     171\n",
       "800000.0     120\n",
       "750000.0     112\n",
       "700000.0     112\n",
       "900000.0     101\n",
       "520000.0      86\n",
       "680000.0      74\n",
       "540000.0      72\n",
       "720000.0      70\n",
       "650000.0      69\n",
       "560000.0      65\n",
       "550000.0      61\n",
       "840000.0      60\n",
       "480000.0      60\n",
       "760000.0      57\n",
       "640000.0      56\n",
       "620000.0      56\n",
       "660000.0      54\n",
       "525000.0      50\n",
       "880000.0      44\n",
       "780000.0      42\n",
       "575000.0      42\n",
       "636000.0      41\n",
       "850000.0      41\n",
       "580000.0      39\n",
       "512000.0      39\n",
       "675000.0      38\n",
       "460000.0      38\n",
       "            ... \n",
       "447250.0       1\n",
       "1151265.0      1\n",
       "492300.0       1\n",
       "1133600.0      1\n",
       "665100.0       1\n",
       "1038000.0      1\n",
       "714350.0       1\n",
       "488250.0       1\n",
       "747250.0       1\n",
       "910972.0       1\n",
       "993000.0       1\n",
       "561400.0       1\n",
       "499920.0       1\n",
       "950375.0       1\n",
       "1132000.0      1\n",
       "654691.0       1\n",
       "467600.0       1\n",
       "747200.0       1\n",
       "845500.0       1\n",
       "534200.0       1\n",
       "1265000.0      1\n",
       "496472.0       1\n",
       "566955.0       1\n",
       "534168.0       1\n",
       "796300.0       1\n",
       "1156000.0      1\n",
       "714375.0       1\n",
       "681600.0       1\n",
       "525396.0       1\n",
       "819200.0       1\n",
       "Name: Original Principal Balance, Length: 3618, dtype: int64"
      ]
     },
     "execution_count": 57,
     "metadata": {},
     "output_type": "execute_result"
    }
   ],
   "source": [
    "df_final['Original Principal Balance'].value_counts()"
   ]
  },
  {
   "cell_type": "code",
   "execution_count": 58,
   "metadata": {},
   "outputs": [
    {
     "name": "stdout",
     "output_type": "stream",
     "text": [
     
     ]
    }
   ],
   "source": [
    "for col in columns:\n",
    "    print(df_final[col].value_counts())"
   ]
  },
  {
   "cell_type": "code",
   "execution_count": null,
   "metadata": {},
   "outputs": [],
   "source": []
  },
  {
   "cell_type": "code",
   "execution_count": null,
   "metadata": {},
   "outputs": [],
   "source": []
  }
 ],
 "metadata": {
  "kernelspec": {
   "display_name": "Python 3",
   "language": "python",
   "name": "python3"
  },
  "language_info": {
   "codemirror_mode": {
    "name": "ipython",
    "version": 3
   },
   "file_extension": ".py",
   "mimetype": "text/x-python",
   "name": "python",
   "nbconvert_exporter": "python",
   "pygments_lexer": "ipython3",
   "version": "3.6.5"
  }
 },
 "nbformat": 4,
 "nbformat_minor": 2
}
