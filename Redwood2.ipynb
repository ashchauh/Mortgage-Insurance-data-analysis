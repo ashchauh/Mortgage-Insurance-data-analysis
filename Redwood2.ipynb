{
 "cells": [
  {
   "cell_type": "code",
   "execution_count": 48,
   "metadata": {},
   "outputs": [],
   "source": [
    "import pandas as pd\n",
    "import numpy as np\n",
    "import matplotlib.pyplot as plt\n",
    "import seaborn as sns\n",
    "from sklearn.preprocessing import StandardScaler\n",
    "import scipy\n",
    "from sklearn.model_selection import train_test_split"
   ]
  },
  {
   "cell_type": "code",
   "execution_count": 57,
   "metadata": {},
   "outputs": [],
   "source": [
    "df1=pd.ExcelFile(r'C:\\Users\\achauhan\\Desktop\\Radian\\Data\\Standard Upload_RedwoodFlow_20180619.xlsx')"
   ]
  },
  {
   "cell_type": "code",
   "execution_count": 58,
   "metadata": {},
   "outputs": [],
   "source": [
    "df=df1.parse()"
   ]
  },
  {
   "cell_type": "code",
   "execution_count": 4,
   "metadata": {},
   "outputs": [
    {
     "name": "stdout",
     "output_type": "stream",
     "text": [
      "<class 'pandas.core.frame.DataFrame'>\n",
      "RangeIndex: 12308 entries, 0 to 12307\n",
      "Columns: 221 entries, Loan Status to Final Compliance Grade\n",
      "dtypes: object(221)\n",
      "memory usage: 20.8+ MB\n"
     ]
    }
   ],
   "source": [
    "copy_df = df.select_dtypes(include=['object']).copy()\n",
    "copy_df.info()\n",
    "copy_df.head(10)\n",
    "copy_df1=copy_df\n",
    "copy_df1= copy_df1.fillna(copy_df1['Final Compliance Grade'].value_counts().index[0])"
   ]
  },
  {
   "cell_type": "code",
   "execution_count": 5,
   "metadata": {},
   "outputs": [
    {
     "name": "stdout",
     "output_type": "stream",
     "text": [
      "0\n"
     ]
    }
   ],
   "source": [
    "print(copy_df1.isnull().values.sum())"
   ]
  },
  {
   "cell_type": "code",
   "execution_count": 6,
   "metadata": {},
   "outputs": [
    {
     "name": "stdout",
     "output_type": "stream",
     "text": [
      "1     8084\n",
      "2     3823\n",
      "3D     183\n",
      "3      182\n",
      "3C      36\n",
      "Name: Final Compliance Grade, dtype: int64\n",
      "1     10704\n",
      "3D     1205\n",
      "2       293\n",
      "3        56\n",
      "3C       50\n",
      "Name: Final Property Valuations Grade, dtype: int64\n"
     ]
    }
   ],
   "source": [
    "print(copy_df1['Final Compliance Grade'].value_counts())\n",
    "print(copy_df1['Final Property Valuations Grade'].value_counts())"
   ]
  },
  {
   "cell_type": "code",
   "execution_count": 7,
   "metadata": {},
   "outputs": [],
   "source": [
    "Note_Status=copy_df[['Note Status', 'Final_Overall_Grade']]"
   ]
  },
  {
   "cell_type": "code",
   "execution_count": 8,
   "metadata": {},
   "outputs": [],
   "source": [
    "#sns.set()\n",
    "#_ = plt.hist(Note_Status['Note Status'])\n",
    "#_ = plt.xlabel('Final_Overall_Grade')\n",
    "#_ = plt.ylabel('Number')\n",
    "#plt.show()"
   ]
  },
  {
   "cell_type": "code",
   "execution_count": 9,
   "metadata": {},
   "outputs": [
    {
     "name": "stdout",
     "output_type": "stream",
     "text": [
      "<class 'pandas.core.frame.DataFrame'>\n",
      "RangeIndex: 12308 entries, 0 to 12307\n",
      "Data columns (total 2 columns):\n",
      "Note Status            12308 non-null object\n",
      "Final_Overall_Grade    12308 non-null object\n",
      "dtypes: object(2)\n",
      "memory usage: 192.4+ KB\n"
     ]
    }
   ],
   "source": [
    "Note_Status.info()"
   ]
  },
  {
   "cell_type": "code",
   "execution_count": 10,
   "metadata": {},
   "outputs": [
    {
     "name": "stdout",
     "output_type": "stream",
     "text": [
      "<pandas.core.groupby.groupby.DataFrameGroupBy object at 0x0000000011F92D68>\n"
     ]
    }
   ],
   "source": [
    "print(Note_Status.groupby(Note_Status['Note Status']))"
   ]
  },
  {
   "cell_type": "code",
   "execution_count": 11,
   "metadata": {},
   "outputs": [
    {
     "data": {
      "text/plain": [
       "Note Status\n",
       "(No Data)     3C2111113D33D1313C113D111121111132131111111111...\n",
       "Incomplete                                                   12\n",
       "Present       22112222233D3D122213D1113D3D21132213D121222211...\n",
       "Name: Final_Overall_Grade, dtype: object"
      ]
     },
     "execution_count": 11,
     "metadata": {},
     "output_type": "execute_result"
    }
   ],
   "source": [
    "Note_Status.groupby('Note Status')['Final_Overall_Grade'].sum()"
   ]
  },
  {
   "cell_type": "code",
   "execution_count": 12,
   "metadata": {},
   "outputs": [
    {
     "data": {
      "text/html": [
       "<div>\n",
       "<style scoped>\n",
       "    .dataframe tbody tr th:only-of-type {\n",
       "        vertical-align: middle;\n",
       "    }\n",
       "\n",
       "    .dataframe tbody tr th {\n",
       "        vertical-align: top;\n",
       "    }\n",
       "\n",
       "    .dataframe thead th {\n",
       "        text-align: right;\n",
       "    }\n",
       "</style>\n",
       "<table border=\"1\" class=\"dataframe\">\n",
       "  <thead>\n",
       "    <tr style=\"text-align: right;\">\n",
       "      <th></th>\n",
       "      <th>Final_Overall_Grade</th>\n",
       "    </tr>\n",
       "    <tr>\n",
       "      <th>Note Status</th>\n",
       "      <th></th>\n",
       "    </tr>\n",
       "  </thead>\n",
       "  <tbody>\n",
       "    <tr>\n",
       "      <th>(No Data)</th>\n",
       "      <td>597</td>\n",
       "    </tr>\n",
       "    <tr>\n",
       "      <th>Incomplete</th>\n",
       "      <td>2</td>\n",
       "    </tr>\n",
       "    <tr>\n",
       "      <th>Present</th>\n",
       "      <td>11709</td>\n",
       "    </tr>\n",
       "  </tbody>\n",
       "</table>\n",
       "</div>"
      ],
      "text/plain": [
       "             Final_Overall_Grade\n",
       "Note Status                     \n",
       "(No Data)                    597\n",
       "Incomplete                     2\n",
       "Present                    11709"
      ]
     },
     "execution_count": 12,
     "metadata": {},
     "output_type": "execute_result"
    }
   ],
   "source": [
    "note_status_groupby=Note_Status.groupby('Note Status').count()\n",
    "note_status_groupby.head()"
   ]
  },
  {
   "cell_type": "code",
   "execution_count": 1,
   "metadata": {},
   "outputs": [],
   "source": [
    "train_test_split=df.copy()\n",
    "train, test = train_test_split(df, test_size=0.2)"
   ]
  },
  {
   "cell_type": "code",
   "execution_count": null,
   "metadata": {},
   "outputs": [],
   "source": [
    "'''def get_split(dataset, n_features):\n",
    "\tclass_values = list(set(row[-1] for row in dataset))\n",
    "\tb_index, b_value, b_score, b_groups = 999, 999, 999, None\n",
    "\tfeatures = list()\n",
    "\twhile len(features) < n_features:\n",
    "\t\tindex = randrange(len(dataset[0])-1)\n",
    "\t\tif index not in features:\n",
    "\t\t\tfeatures.append(index)\n",
    "\tfor index in features:\n",
    "\t\tfor row in dataset:\n",
    "\t\t\tgroups = test_split(index, row[index], dataset)\n",
    "\t\t\tgini = gini_index(groups, class_values)\n",
    "\t\t\tif gini < b_score:\n",
    "\t\t\t\tb_index, b_value, b_score, b_groups = index, row[index], gini, groups\n",
    "\treturn {'index':b_index, 'value':b_value, 'groups':b_groups}'''\n"
   ]
  },
  {
   "cell_type": "code",
   "execution_count": null,
   "metadata": {},
   "outputs": [],
   "source": [
    "'''\n",
    "# Random Forest Algorithm on Sonar Dataset\n",
    "from random import seed\n",
    "from random import randrange\n",
    "from csv import reader\n",
    "from math import sqrt\n",
    "\n",
    "# Load a CSV file\n",
    "def load_csv(filename):\n",
    "\tdataset = list()\n",
    "\twith open(filename, 'r') as file:\n",
    "\t\tcsv_reader = reader(file)\n",
    "\t\tfor row in csv_reader:\n",
    "\t\t\tif not row:\n",
    "\t\t\t\tcontinue\n",
    "\t\t\tdataset.append(row)\n",
    "\treturn dataset\n",
    "\n",
    "# Convert string column to float\n",
    "def str_column_to_float(dataset, column):\n",
    "\tfor row in dataset:\n",
    "\t\trow[column] = float(row[column].strip())\n",
    "\n",
    "# Convert string column to integer\n",
    "def str_column_to_int(dataset, column):\n",
    "\tclass_values = [row[column] for row in dataset]\n",
    "\tunique = set(class_values)\n",
    "\tlookup = dict()\n",
    "\tfor i, value in enumerate(unique):\n",
    "\t\tlookup[value] = i\n",
    "\tfor row in dataset:\n",
    "\t\trow[column] = lookup[row[column]]\n",
    "\treturn lookup\n",
    "\n",
    "# Split a dataset into k folds\n",
    "def cross_validation_split(dataset, n_folds):\n",
    "\tdataset_split = list()\n",
    "\tdataset_copy = list(dataset)\n",
    "\tfold_size = int(len(dataset) / n_folds)\n",
    "\tfor i in range(n_folds):\n",
    "\t\tfold = list()\n",
    "\t\twhile len(fold) < fold_size:\n",
    "\t\t\tindex = randrange(len(dataset_copy))\n",
    "\t\t\tfold.append(dataset_copy.pop(index))\n",
    "\t\tdataset_split.append(fold)\n",
    "\treturn dataset_split\n",
    "\n",
    "# Calculate accuracy percentage\n",
    "def accuracy_metric(actual, predicted):\n",
    "\tcorrect = 0\n",
    "\tfor i in range(len(actual)):\n",
    "\t\tif actual[i] == predicted[i]:\n",
    "\t\t\tcorrect += 1\n",
    "\treturn correct / float(len(actual)) * 100.0\n",
    "\n",
    "# Evaluate an algorithm using a cross validation split\n",
    "def evaluate_algorithm(dataset, algorithm, n_folds, *args):\n",
    "\tfolds = cross_validation_split(dataset, n_folds)\n",
    "\tscores = list()\n",
    "\tfor fold in folds:\n",
    "\t\ttrain_set = list(folds)\n",
    "\t\ttrain_set.remove(fold)\n",
    "\t\ttrain_set = sum(train_set, [])\n",
    "\t\ttest_set = list()\n",
    "\t\tfor row in fold:\n",
    "\t\t\trow_copy = list(row)\n",
    "\t\t\ttest_set.append(row_copy)\n",
    "\t\t\trow_copy[-1] = None\n",
    "\t\tpredicted = algorithm(train_set, test_set, *args)\n",
    "\t\tactual = [row[-1] for row in fold]\n",
    "\t\taccuracy = accuracy_metric(actual, predicted)\n",
    "\t\tscores.append(accuracy)\n",
    "\treturn scores\n",
    "\n",
    "# Split a dataset based on an attribute and an attribute value\n",
    "def test_split(index, value, dataset):\n",
    "\tleft, right = list(), list()\n",
    "\tfor row in dataset:\n",
    "\t\tif row[index] < value:\n",
    "\t\t\tleft.append(row)\n",
    "\t\telse:\n",
    "\t\t\tright.append(row)\n",
    "\treturn left, right\n",
    "\n",
    "# Calculate the Gini index for a split dataset\n",
    "def gini_index(groups, classes):\n",
    "\t# count all samples at split point\n",
    "\tn_instances = float(sum([len(group) for group in groups]))\n",
    "\t# sum weighted Gini index for each group\n",
    "\tgini = 0.0\n",
    "\tfor group in groups:\n",
    "\t\tsize = float(len(group))\n",
    "\t\t# avoid divide by zero\n",
    "\t\tif size == 0:\n",
    "\t\t\tcontinue\n",
    "\t\tscore = 0.0\n",
    "\t\t# score the group based on the score for each class\n",
    "\t\tfor class_val in classes:\n",
    "\t\t\tp = [row[-1] for row in group].count(class_val) / size\n",
    "\t\t\tscore += p * p\n",
    "\t\t# weight the group score by its relative size\n",
    "\t\tgini += (1.0 - score) * (size / n_instances)\n",
    "\treturn gini\n",
    "\n",
    "# Select the best split point for a dataset\n",
    "def get_split(dataset, n_features):\n",
    "\tclass_values = list(set(row[-1] for row in dataset))\n",
    "\tb_index, b_value, b_score, b_groups = 999, 999, 999, None\n",
    "\tfeatures = list()\n",
    "\twhile len(features) < n_features:\n",
    "\t\tindex = randrange(len(dataset[0])-1)\n",
    "\t\tif index not in features:\n",
    "\t\t\tfeatures.append(index)\n",
    "\tfor index in features:\n",
    "\t\tfor row in dataset:\n",
    "\t\t\tgroups = test_split(index, row[index], dataset)\n",
    "\t\t\tgini = gini_index(groups, class_values)\n",
    "\t\t\tif gini < b_score:\n",
    "\t\t\t\tb_index, b_value, b_score, b_groups = index, row[index], gini, groups\n",
    "\treturn {'index':b_index, 'value':b_value, 'groups':b_groups}\n",
    "\n",
    "# Create a terminal node value\n",
    "def to_terminal(group):\n",
    "\toutcomes = [row[-1] for row in group]\n",
    "\treturn max(set(outcomes), key=outcomes.count)\n",
    "\n",
    "# Create child splits for a node or make terminal\n",
    "def split(node, max_depth, min_size, n_features, depth):\n",
    "\tleft, right = node['groups']\n",
    "\tdel(node['groups'])\n",
    "\t# check for a no split\n",
    "\tif not left or not right:\n",
    "\t\tnode['left'] = node['right'] = to_terminal(left + right)\n",
    "\t\treturn\n",
    "\t# check for max depth\n",
    "\tif depth >= max_depth:\n",
    "\t\tnode['left'], node['right'] = to_terminal(left), to_terminal(right)\n",
    "\t\treturn\n",
    "\t# process left child\n",
    "\tif len(left) <= min_size:\n",
    "\t\tnode['left'] = to_terminal(left)\n",
    "\telse:\n",
    "\t\tnode['left'] = get_split(left, n_features)\n",
    "\t\tsplit(node['left'], max_depth, min_size, n_features, depth+1)\n",
    "\t# process right child\n",
    "\tif len(right) <= min_size:\n",
    "\t\tnode['right'] = to_terminal(right)\n",
    "\telse:\n",
    "\t\tnode['right'] = get_split(right, n_features)\n",
    "\t\tsplit(node['right'], max_depth, min_size, n_features, depth+1)\n",
    "\n",
    "# Build a decision tree\n",
    "def build_tree(train, max_depth, min_size, n_features):\n",
    "\troot = get_split(train, n_features)\n",
    "\tsplit(root, max_depth, min_size, n_features, 1)\n",
    "\treturn root\n",
    "\n",
    "# Make a prediction with a decision tree\n",
    "def predict(node, row):\n",
    "\tif row[node['index']] < node['value']:\n",
    "\t\tif isinstance(node['left'], dict):\n",
    "\t\t\treturn predict(node['left'], row)\n",
    "\t\telse:\n",
    "\t\t\treturn node['left']\n",
    "\telse:\n",
    "\t\tif isinstance(node['right'], dict):\n",
    "\t\t\treturn predict(node['right'], row)\n",
    "\t\telse:\n",
    "\t\t\treturn node['right']\n",
    "\n",
    "# Create a random subsample from the dataset with replacement\n",
    "def subsample(dataset, ratio):\n",
    "\tsample = list()\n",
    "\tn_sample = round(len(dataset) * ratio)\n",
    "\twhile len(sample) < n_sample:\n",
    "\t\tindex = randrange(len(dataset))\n",
    "\t\tsample.append(dataset[index])\n",
    "\treturn sample\n",
    "\n",
    "# Make a prediction with a list of bagged trees\n",
    "def bagging_predict(trees, row):\n",
    "\tpredictions = [predict(tree, row) for tree in trees]\n",
    "\treturn max(set(predictions), key=predictions.count)\n",
    "\n",
    "# Random Forest Algorithm\n",
    "def random_forest(train, test, max_depth, min_size, sample_size, n_trees, n_features):\n",
    "\ttrees = list()\n",
    "\tfor i in range(n_trees):\n",
    "\t\tsample = subsample(train, sample_size)\n",
    "\t\ttree = build_tree(sample, max_depth, min_size, n_features)\n",
    "\t\ttrees.append(tree)\n",
    "\tpredictions = [bagging_predict(trees, row) for row in test]\n",
    "\treturn(predictions)\n",
    "\n",
    "# Test the random forest algorithm\n",
    "seed(2)\n",
    "# load and prepare data\n",
    "filename = 'sonar.all-data.csv'\n",
    "dataset = load_csv(filename)\n",
    "# convert string attributes to integers\n",
    "for i in range(0, len(dataset[0])-1):\n",
    "\tstr_column_to_float(dataset, i)\n",
    "# convert class column to integers\n",
    "str_column_to_int(dataset, len(dataset[0])-1)\n",
    "# evaluate algorithm\n",
    "n_folds = 5\n",
    "max_depth = 10\n",
    "min_size = 1\n",
    "sample_size = 1.0\n",
    "n_features = int(sqrt(len(dataset[0])-1))\n",
    "for n_trees in [1, 5, 10]:\n",
    "\tscores = evaluate_algorithm(dataset, random_forest, n_folds, max_depth, min_size, sample_size, n_trees, n_features)\n",
    "\tprint('Trees: %d' % n_trees)\n",
    "\tprint('Scores: %s' % scores)\n",
    "\tprint('Mean Accuracy: %.3f%%' % (sum(scores)/float(len(scores))))\n",
    "\n",
    "# Random Forest Algorithm on Sonar Dataset\n",
    "from random import seed\n",
    "from random import randrange\n",
    "from csv import reader\n",
    "from math import sqrt\n",
    " \n",
    "# Load a CSV file\n",
    "def load_csv(filename):\n",
    "\tdataset = list()\n",
    "\twith open(filename, 'r') as file:\n",
    "\t\tcsv_reader = reader(file)\n",
    "\t\tfor row in csv_reader:\n",
    "\t\t\tif not row:\n",
    "\t\t\t\tcontinue\n",
    "\t\t\tdataset.append(row)\n",
    "\treturn dataset\n",
    " \n",
    "# Convert string column to float\n",
    "def str_column_to_float(dataset, column):\n",
    "\tfor row in dataset:\n",
    "\t\trow[column] = float(row[column].strip())\n",
    " \n",
    "# Convert string column to integer\n",
    "def str_column_to_int(dataset, column):\n",
    "\tclass_values = [row[column] for row in dataset]\n",
    "\tunique = set(class_values)\n",
    "\tlookup = dict()\n",
    "\tfor i, value in enumerate(unique):\n",
    "\t\tlookup[value] = i\n",
    "\tfor row in dataset:\n",
    "\t\trow[column] = lookup[row[column]]\n",
    "\treturn lookup\n",
    " \n",
    "# Split a dataset into k folds\n",
    "def cross_validation_split(dataset, n_folds):\n",
    "\tdataset_split = list()\n",
    "\tdataset_copy = list(dataset)\n",
    "\tfold_size = int(len(dataset) / n_folds)\n",
    "\tfor i in range(n_folds):\n",
    "\t\tfold = list()\n",
    "\t\twhile len(fold) < fold_size:\n",
    "\t\t\tindex = randrange(len(dataset_copy))\n",
    "\t\t\tfold.append(dataset_copy.pop(index))\n",
    "\t\tdataset_split.append(fold)\n",
    "\treturn dataset_split\n",
    " \n",
    "# Calculate accuracy percentage\n",
    "def accuracy_metric(actual, predicted):\n",
    "\tcorrect = 0\n",
    "\tfor i in range(len(actual)):\n",
    "\t\tif actual[i] == predicted[i]:\n",
    "\t\t\tcorrect += 1\n",
    "\treturn correct / float(len(actual)) * 100.0\n",
    " \n",
    "# Evaluate an algorithm using a cross validation split\n",
    "def evaluate_algorithm(dataset, algorithm, n_folds, *args):\n",
    "\tfolds = cross_validation_split(dataset, n_folds)\n",
    "\tscores = list()\n",
    "\tfor fold in folds:\n",
    "\t\ttrain_set = list(folds)\n",
    "\t\ttrain_set.remove(fold)\n",
    "\t\ttrain_set = sum(train_set, [])\n",
    "\t\ttest_set = list()\n",
    "\t\tfor row in fold:\n",
    "\t\t\trow_copy = list(row)\n",
    "\t\t\ttest_set.append(row_copy)\n",
    "\t\t\trow_copy[-1] = None\n",
    "\t\tpredicted = algorithm(train_set, test_set, *args)\n",
    "\t\tactual = [row[-1] for row in fold]\n",
    "\t\taccuracy = accuracy_metric(actual, predicted)\n",
    "\t\tscores.append(accuracy)\n",
    "\treturn scores\n",
    " \n",
    "# Split a dataset based on an attribute and an attribute value\n",
    "def test_split(index, value, dataset):\n",
    "\tleft, right = list(), list()\n",
    "\tfor row in dataset:\n",
    "\t\tif row[index] < value:\n",
    "\t\t\tleft.append(row)\n",
    "\t\telse:\n",
    "\t\t\tright.append(row)\n",
    "\treturn left, right\n",
    " \n",
    "# Calculate the Gini index for a split dataset\n",
    "def gini_index(groups, classes):\n",
    "\t# count all samples at split point\n",
    "\tn_instances = float(sum([len(group) for group in groups]))\n",
    "\t# sum weighted Gini index for each group\n",
    "\tgini = 0.0\n",
    "\tfor group in groups:\n",
    "\t\tsize = float(len(group))\n",
    "\t\t# avoid divide by zero\n",
    "\t\tif size == 0:\n",
    "\t\t\tcontinue\n",
    "\t\tscore = 0.0\n",
    "\t\t# score the group based on the score for each class\n",
    "\t\tfor class_val in classes:\n",
    "\t\t\tp = [row[-1] for row in group].count(class_val) / size\n",
    "\t\t\tscore += p * p\n",
    "\t\t# weight the group score by its relative size\n",
    "\t\tgini += (1.0 - score) * (size / n_instances)\n",
    "\treturn gini\n",
    " \n",
    "# Select the best split point for a dataset\n",
    "def get_split(dataset, n_features):\n",
    "\tclass_values = list(set(row[-1] for row in dataset))\n",
    "\tb_index, b_value, b_score, b_groups = 999, 999, 999, None\n",
    "\tfeatures = list()\n",
    "\twhile len(features) < n_features:\n",
    "\t\tindex = randrange(len(dataset[0])-1)\n",
    "\t\tif index not in features:\n",
    "\t\t\tfeatures.append(index)\n",
    "\tfor index in features:\n",
    "\t\tfor row in dataset:\n",
    "\t\t\tgroups = test_split(index, row[index], dataset)\n",
    "\t\t\tgini = gini_index(groups, class_values)\n",
    "\t\t\tif gini < b_score:\n",
    "\t\t\t\tb_index, b_value, b_score, b_groups = index, row[index], gini, groups\n",
    "\treturn {'index':b_index, 'value':b_value, 'groups':b_groups}\n",
    " \n",
    "# Create a terminal node value\n",
    "def to_terminal(group):\n",
    "\toutcomes = [row[-1] for row in group]\n",
    "\treturn max(set(outcomes), key=outcomes.count)\n",
    " \n",
    "# Create child splits for a node or make terminal\n",
    "def split(node, max_depth, min_size, n_features, depth):\n",
    "\tleft, right = node['groups']\n",
    "\tdel(node['groups'])\n",
    "\t# check for a no split\n",
    "\tif not left or not right:\n",
    "\t\tnode['left'] = node['right'] = to_terminal(left + right)\n",
    "\t\treturn\n",
    "\t# check for max depth\n",
    "\tif depth >= max_depth:\n",
    "\t\tnode['left'], node['right'] = to_terminal(left), to_terminal(right)\n",
    "\t\treturn\n",
    "\t# process left child\n",
    "\tif len(left) <= min_size:\n",
    "\t\tnode['left'] = to_terminal(left)\n",
    "\telse:\n",
    "\t\tnode['left'] = get_split(left, n_features)\n",
    "\t\tsplit(node['left'], max_depth, min_size, n_features, depth+1)\n",
    "\t# process right child\n",
    "\tif len(right) <= min_size:\n",
    "\t\tnode['right'] = to_terminal(right)\n",
    "\telse:\n",
    "\t\tnode['right'] = get_split(right, n_features)\n",
    "\t\tsplit(node['right'], max_depth, min_size, n_features, depth+1)\n",
    " \n",
    "# Build a decision tree\n",
    "def build_tree(train, max_depth, min_size, n_features):\n",
    "\troot = get_split(train, n_features)\n",
    "\tsplit(root, max_depth, min_size, n_features, 1)\n",
    "\treturn root\n",
    " \n",
    "# Make a prediction with a decision tree\n",
    "def predict(node, row):\n",
    "\tif row[node['index']] < node['value']:\n",
    "\t\tif isinstance(node['left'], dict):\n",
    "\t\t\treturn predict(node['left'], row)\n",
    "\t\telse:\n",
    "\t\t\treturn node['left']\n",
    "\telse:\n",
    "\t\tif isinstance(node['right'], dict):\n",
    "\t\t\treturn predict(node['right'], row)\n",
    "\t\telse:\n",
    "\t\t\treturn node['right']\n",
    " \n",
    "# Create a random subsample from the dataset with replacement\n",
    "def subsample(dataset, ratio):\n",
    "\tsample = list()\n",
    "\tn_sample = round(len(dataset) * ratio)\n",
    "\twhile len(sample) < n_sample:\n",
    "\t\tindex = randrange(len(dataset))\n",
    "\t\tsample.append(dataset[index])\n",
    "\treturn sample\n",
    " \n",
    "# Make a prediction with a list of bagged trees\n",
    "def bagging_predict(trees, row):\n",
    "\tpredictions = [predict(tree, row) for tree in trees]\n",
    "\treturn max(set(predictions), key=predictions.count)\n",
    " \n",
    "# Random Forest Algorithm\n",
    "def random_forest(train, test, max_depth, min_size, sample_size, n_trees, n_features):\n",
    "\ttrees = list()\n",
    "\tfor i in range(n_trees):\n",
    "\t\tsample = subsample(train, sample_size)\n",
    "\t\ttree = build_tree(sample, max_depth, min_size, n_features)\n",
    "\t\ttrees.append(tree)\n",
    "\tpredictions = [bagging_predict(trees, row) for row in test]\n",
    "\treturn(predictions)\n",
    " \n",
    "# Test the random forest algorithm\n",
    "seed(2)\n",
    "# load and prepare data\n",
    "filename = 'sonar.all-data.csv'\n",
    "dataset = load_csv(filename)\n",
    "# convert string attributes to integers\n",
    "for i in range(0, len(dataset[0])-1):\n",
    "\tstr_column_to_float(dataset, i)\n",
    "# convert class column to integers\n",
    "str_column_to_int(dataset, len(dataset[0])-1)\n",
    "# evaluate algorithm\n",
    "n_folds = 5\n",
    "max_depth = 10\n",
    "min_size = 1\n",
    "sample_size = 1.0\n",
    "n_features = int(sqrt(len(dataset[0])-1))\n",
    "for n_trees in [1, 5, 10]:\n",
    "\tscores = evaluate_algorithm(dataset, random_forest, n_folds, max_depth, min_size, sample_size, n_trees, n_features)\n",
    "\tprint('Trees: %d' % n_trees)\n",
    "\tprint('Scores: %s' % scores)\n",
    "\tprint('Mean Accuracy: %.3f%%' % (sum(scores)/float(len(scores))))'''"
   ]
  },
  {
   "cell_type": "code",
   "execution_count": 2,
   "metadata": {},
   "outputs": [],
   "source": [
    "df.head()"
   ]
  },
  {
   "cell_type": "code",
   "execution_count": 3,
   "metadata": {},
   "outputs": [],
   "source": [
    "df.describe()"
   ]
  },
  {
   "cell_type": "code",
   "execution_count": 16,
   "metadata": {},
   "outputs": [
    {
     "name": "stdout",
     "output_type": "stream",
     "text": [
      "<class 'pandas.core.frame.DataFrame'>\n",
      "RangeIndex: 12308 entries, 0 to 12307\n",
      "Columns: 244 entries, Loan Number to Final Compliance Grade\n",
      "dtypes: float64(19), int64(4), object(221)\n",
      "memory usage: 22.9+ MB\n"
     ]
    }
   ],
   "source": [
    "df.info()"
   ]
  },
  {
   "cell_type": "code",
   "execution_count": 4,
   "metadata": {},
   "outputs": [],
   "source": [
    "#X_train, X_test, y_train, y_test = train_test_split(df, y, test_size=0.20, random_state=42)\n",
    "df_imp.head()"
   ]
  },
  {
   "cell_type": "code",
   "execution_count": 59,
   "metadata": {},
   "outputs": [],
   "source": [
    "df_imp=df[['Address City','Address State','Address Zip','Loan Type',\n",
    "           'Product Type', 'Amortization Type', 'Original Principal Balance',\n",
    "           'Note Date', 'Combined Loan Amount', 'Note Rate', 'Note P&I', 'Note Term',\n",
    "           'Interest Only Period','Lender Name', 'Origination Channel', 'Loan Modified',\n",
    "           'Occupancy','Loan Purpose', 'Cash To Borrower At Close','Property Type',\n",
    "           'Year Built', 'Occupancy Status', 'LTV','Title Status', 'Other Liens',\n",
    "           'Property Tax Amount','Borrower 1 Age', 'Borrower 1 Years On Job',\n",
    "           'Borrower 1 Years In Field','Borrower 1 Self Employed', 'Borrower 1 First Time Home Buyer',\n",
    "           'Borrower 1 Equifax Credit Score', 'Borrower 1 Experian Credit Score',\n",
    "           'Borrower 1 Transunion Credit Score', 'Borrower 1 Total Income',\n",
    "           'Borrower 2 Equifax Credit Score', 'Borrower 2 Experian Credit Score',\n",
    "           'Borrower 2 Transunion Credit Score', 'Borrower 2 Total Income',\n",
    "           'Representative Credit Score','Total Monthly Income',\n",
    "           'Total Remaining Gross Monthly Income','Total Monthly Expenses',\n",
    "           'Primary Residence Expense', 'Total Assets','Qualification Method',\n",
    "          'Loan Doc Type','Final_Overall_Grade']]"
   ]
  },
  {
   "cell_type": "code",
   "execution_count": 60,
   "metadata": {},
   "outputs": [
    {
     "name": "stdout",
     "output_type": "stream",
     "text": [
      "<class 'pandas.core.frame.DataFrame'>\n",
      "RangeIndex: 12308 entries, 0 to 12307\n",
      "Data columns (total 48 columns):\n",
      "Address City                            12308 non-null object\n",
      "Address State                           12308 non-null object\n",
      "Address Zip                             12308 non-null int64\n",
      "Loan Type                               12308 non-null object\n",
      "Product Type                            12308 non-null object\n",
      "Amortization Type                       12308 non-null object\n",
      "Original Principal Balance              12308 non-null object\n",
      "Note Date                               12308 non-null object\n",
      "Combined Loan Amount                    12308 non-null float64\n",
      "Note Rate                               12308 non-null object\n",
      "Note P&I                                12308 non-null object\n",
      "Note Term                               12308 non-null object\n",
      "Interest Only Period                    12308 non-null object\n",
      "Lender Name                             12308 non-null object\n",
      "Origination Channel                     12308 non-null object\n",
      "Loan Modified                           12308 non-null object\n",
      "Occupancy                               12308 non-null object\n",
      "Loan Purpose                            12308 non-null object\n",
      "Cash To Borrower At Close               12308 non-null object\n",
      "Property Type                           12308 non-null object\n",
      "Year Built                              12308 non-null object\n",
      "Occupancy Status                        12308 non-null object\n",
      "LTV                                     12308 non-null object\n",
      "Title Status                            12308 non-null object\n",
      "Other Liens                             12308 non-null object\n",
      "Property Tax Amount                     12308 non-null object\n",
      "Borrower 1 Age                          12308 non-null object\n",
      "Borrower 1 Years On Job                 12308 non-null object\n",
      "Borrower 1 Years In Field               12308 non-null object\n",
      "Borrower 1 Self Employed                12308 non-null object\n",
      "Borrower 1 First Time Home Buyer        12308 non-null object\n",
      "Borrower 1 Equifax Credit Score         12308 non-null object\n",
      "Borrower 1 Experian Credit Score        12308 non-null object\n",
      "Borrower 1 Transunion Credit Score      12308 non-null object\n",
      "Borrower 1 Total Income                 12308 non-null object\n",
      "Borrower 2 Equifax Credit Score         12308 non-null object\n",
      "Borrower 2 Experian Credit Score        12308 non-null object\n",
      "Borrower 2 Transunion Credit Score      12308 non-null object\n",
      "Borrower 2 Total Income                 12308 non-null float64\n",
      "Representative Credit Score             12308 non-null object\n",
      "Total Monthly Income                    12308 non-null float64\n",
      "Total Remaining Gross Monthly Income    12308 non-null float64\n",
      "Total Monthly Expenses                  12308 non-null float64\n",
      "Primary Residence Expense               12308 non-null float64\n",
      "Total Assets                            12308 non-null object\n",
      "Qualification Method                    12308 non-null object\n",
      "Loan Doc Type                           12308 non-null object\n",
      "Final_Overall_Grade                     12308 non-null object\n",
      "dtypes: float64(6), int64(1), object(41)\n",
      "memory usage: 4.5+ MB\n"
     ]
    }
   ],
   "source": [
    "df_imp.info()"
   ]
  },
  {
   "cell_type": "code",
   "execution_count": 5,
   "metadata": {},
   "outputs": [],
   "source": [
    "df_imp.info"
   ]
  },
  {
   "cell_type": "code",
   "execution_count": 6,
   "metadata": {},
   "outputs": [],
   "source": [
    "df_imp.describe()"
   ]
  },
  {
   "cell_type": "code",
   "execution_count": 7,
   "metadata": {},
   "outputs": [],
   "source": [
    "df_imp.groupby(df_imp['Address State']='No Data').count()"
   ]
  },
  {
   "cell_type": "code",
   "execution_count": 8,
   "metadata": {},
   "outputs": [],
   "source": [
    "df_imp['Address State'].value_counts()"
   ]
  },
  {
   "cell_type": "code",
   "execution_count": 65,
   "metadata": {},
   "outputs": [],
   "source": [
    "imp_city=df_imp['Address City'].value_counts()"
   ]
  },
  {
   "cell_type": "code",
   "execution_count": 70,
   "metadata": {},
   "outputs": [],
   "source": [
    "imp_product=df_imp['Product Type'].value_counts()"
   ]
  },
  {
   "cell_type": "code",
   "execution_count": 71,
   "metadata": {},
   "outputs": [
    {
     "data": {
      "text/plain": [
       "Jumbo 30yr Fixed             9543\n",
       "(No Data)                    1093\n",
       "Jumbo 7/1 ARM                 522\n",
       "30 Yr Fixed                   432\n",
       "Jumbo 15yr Fixed              226\n",
       "Jumbo 5/1 ARM                 182\n",
       "7/1 ARM                        77\n",
       "Jumbo 10/1 ARM                 40\n",
       "Jumbo 7/1 ARM IO               35\n",
       "Fixed                          24\n",
       "5/1 ARM                        21\n",
       "20 Yr Fixed                    20\n",
       "Jumbo 5/1 ARM IO               14\n",
       "15 Yr Fixed                    13\n",
       "7/1 I/O ARM                    12\n",
       "Jumbo 30yr Fixed IO            11\n",
       "10/1 ARM                        7\n",
       "Jumbo 10/1 ARM IO               7\n",
       "5/1 I/O ARM                     5\n",
       "Jumbo Plus 7/1 ARM              5\n",
       "30 yr Fixed - 10 yr IO          4\n",
       "25 Yr Fixed                     4\n",
       "10/1 I/O ARM                    2\n",
       "Jumbo Plus 30yr Fixed           2\n",
       "30/15 Interest Only             1\n",
       "10/20 Interest Only             1\n",
       "10/1 ARM 1 Year Libor I/O       1\n",
       "10 Yr Fixed                     1\n",
       "Fixed Rate                      1\n",
       "30 Yr Fixed Interest Only       1\n",
       "Lender                          1\n",
       "Name: Product Type, dtype: int64"
      ]
     },
     "execution_count": 71,
     "metadata": {},
     "output_type": "execute_result"
    }
   ],
   "source": [
    "imp_product"
   ]
  },
  {
   "cell_type": "code",
   "execution_count": 9,
   "metadata": {},
   "outputs": [],
   "source": [
    "df_imp.dtypes"
   ]
  },
  {
   "cell_type": "code",
   "execution_count": 10,
   "metadata": {},
   "outputs": [],
   "source": [
    "df_imp['Borrower 2 Equifax Credit Score'].value_counts()"
   ]
  },
  {
   "cell_type": "code",
   "execution_count": 11,
   "metadata": {},
   "outputs": [],
   "source": [
    "df_imp['Origination Channel'].value_counts()"
   ]
  },
  {
   "cell_type": "code",
   "execution_count": 85,
   "metadata": {},
   "outputs": [
    {
     "data": {
      "text/plain": [
       "No                11185\n",
       "(No Data)          1093\n",
       "Yes                  29\n",
       "Not Applicable        1\n",
       "Name: Loan Modified, dtype: int64"
      ]
     },
     "execution_count": 85,
     "metadata": {},
     "output_type": "execute_result"
    }
   ],
   "source": [
    "df_imp['Loan Modified'].value_counts()"
   ]
  },
  {
   "cell_type": "code",
   "execution_count": 86,
   "metadata": {},
   "outputs": [
    {
     "data": {
      "text/plain": [
       "Primary        10544\n",
       "Second Home      600\n",
       "(No Data)        597\n",
       "Investor         567\n",
       "Name: Occupancy, dtype: int64"
      ]
     },
     "execution_count": 86,
     "metadata": {},
     "output_type": "execute_result"
    }
   ],
   "source": [
    "df_imp['Occupancy'].value_counts()"
   ]
  },
  {
   "cell_type": "code",
   "execution_count": 87,
   "metadata": {},
   "outputs": [
    {
     "data": {
      "text/plain": [
       "Purchase              7645\n",
       "Rate and Term Refi    2034\n",
       "Cashout Refi          1860\n",
       "(No Data)              597\n",
       "Construction/Perm      168\n",
       "Home Improvement         2\n",
       "Streamline               2\n",
       "Name: Loan Purpose, dtype: int64"
      ]
     },
     "execution_count": 87,
     "metadata": {},
     "output_type": "execute_result"
    }
   ],
   "source": [
    "df_imp['Loan Purpose'].value_counts()"
   ]
  },
  {
   "cell_type": "code",
   "execution_count": 12,
   "metadata": {},
   "outputs": [],
   "source": [
    "df_imp['Cash To Borrower At Close'].value_counts()"
   ]
  },
  {
   "cell_type": "code",
   "execution_count": 91,
   "metadata": {},
   "outputs": [
    {
     "data": {
      "text/plain": [
       "SFR                      6966\n",
       "Detached PUD             4004\n",
       "Low Rise Condo (1-4)      571\n",
       "High Rise Condo (9+)      175\n",
       "2 Family                  166\n",
       "Mid Rise Condo  (5-8)     113\n",
       "SFR-Attached               86\n",
       "Attached PUD               76\n",
       "3 Family                   46\n",
       "Site Condo                 41\n",
       "4 Family                   36\n",
       "Cooperative                15\n",
       "Rowhouse                   10\n",
       "Condotel                    3\n",
       "Name: Property Type, dtype: int64"
      ]
     },
     "execution_count": 91,
     "metadata": {},
     "output_type": "execute_result"
    }
   ],
   "source": [
    "df_imp['Property Type'].value_counts()"
   ]
  },
  {
   "cell_type": "code",
   "execution_count": 92,
   "metadata": {},
   "outputs": [
    {
     "data": {
      "text/plain": [
       "2017           1334\n",
       "(No Data)       541\n",
       "2016            449\n",
       "2018            366\n",
       "2006            324\n",
       "2005            320\n",
       "2004            277\n",
       "2007            270\n",
       "2003            234\n",
       "2000            222\n",
       "2001            209\n",
       "2015            204\n",
       "1999            197\n",
       "2002            192\n",
       "2014            176\n",
       "2008            168\n",
       "2013            158\n",
       "1990            156\n",
       "1998            152\n",
       "1997            148\n",
       "1995            140\n",
       "1989            132\n",
       "1994            126\n",
       "1988            125\n",
       "1978            125\n",
       "1987            119\n",
       "1993            110\n",
       "2012            109\n",
       "1996            107\n",
       "1979            107\n",
       "               ... \n",
       "1812              2\n",
       "1878              2\n",
       "1855              2\n",
       "1820              2\n",
       "Missing           2\n",
       "1760              1\n",
       "2207              1\n",
       "1765              1\n",
       "1868              1\n",
       "1825              1\n",
       "1834              1\n",
       "1811              1\n",
       "1800              1\n",
       "1865              1\n",
       "Unavailable       1\n",
       "1842              1\n",
       "1882              1\n",
       "1849              1\n",
       "1843              1\n",
       "1853              1\n",
       "1883              1\n",
       "2107              1\n",
       "1791              1\n",
       "1770              1\n",
       "1817              1\n",
       "1756              1\n",
       "1844              1\n",
       "1730              1\n",
       "1836              1\n",
       "1830              1\n",
       "Name: Year Built, Length: 176, dtype: int64"
      ]
     },
     "execution_count": 92,
     "metadata": {},
     "output_type": "execute_result"
    }
   ],
   "source": [
    "df_imp['Year Built'].value_counts()"
   ]
  },
  {
   "cell_type": "code",
   "execution_count": 94,
   "metadata": {},
   "outputs": [
    {
     "data": {
      "text/plain": [
       "80.00        3596\n",
       "75.00         757\n",
       "(No Data)     597\n",
       "90.00         552\n",
       "70.00         527\n",
       "60.00         242\n",
       "65.00         238\n",
       "85.00         144\n",
       "50.00          62\n",
       "66.67          37\n",
       "62.50          25\n",
       "55.00          23\n",
       "58.82          21\n",
       "61.54          20\n",
       "79.99          16\n",
       "76.92          15\n",
       "69.23          15\n",
       "63.64          15\n",
       "71.43          15\n",
       "55.56          15\n",
       "57.14          15\n",
       "58.33          13\n",
       "68.00          12\n",
       "45.45          12\n",
       "40.00          11\n",
       "69.93          11\n",
       "73.33          10\n",
       "64.29          10\n",
       "89.90          10\n",
       "68.75          10\n",
       "             ... \n",
       "66.82           1\n",
       "57.61           1\n",
       "57.10           1\n",
       "55.27           1\n",
       "56.08           1\n",
       "63.05           1\n",
       "40.97           1\n",
       "65.63           1\n",
       "53.78           1\n",
       "40.35           1\n",
       "63.32           1\n",
       "61.41           1\n",
       "56.51           1\n",
       "88.75           1\n",
       "25.53           1\n",
       "52.10           1\n",
       "73.34           1\n",
       "49.02           1\n",
       "60.47           1\n",
       "77.33           1\n",
       "81.36           1\n",
       "25.13           1\n",
       "48.12           1\n",
       "64.14           1\n",
       "86.47           1\n",
       "45.86           1\n",
       "69.50           1\n",
       "67.39           1\n",
       "66.26           1\n",
       "36.62           1\n",
       "Name: LTV, Length: 2927, dtype: int64"
      ]
     },
     "execution_count": 94,
     "metadata": {},
     "output_type": "execute_result"
    }
   ],
   "source": [
    "df_imp['LTV'].value_counts()"
   ]
  },
  {
   "cell_type": "code",
   "execution_count": 97,
   "metadata": {},
   "outputs": [
    {
     "data": {
      "text/plain": [
       "No           11417\n",
       "(No Data)      597\n",
       "Yes            294\n",
       "Name: Other Liens, dtype: int64"
      ]
     },
     "execution_count": 97,
     "metadata": {},
     "output_type": "execute_result"
    }
   ],
   "source": [
    "df_imp['Other Liens'].value_counts()"
   ]
  },
  {
   "cell_type": "code",
   "execution_count": 99,
   "metadata": {},
   "outputs": [
    {
     "data": {
      "text/plain": [
       "(No Data)    1234\n",
       "48            422\n",
       "39            416\n",
       "40            416\n",
       "44            384\n",
       "37            381\n",
       "38            379\n",
       "46            376\n",
       "47            376\n",
       "42            372\n",
       "41            371\n",
       "43            367\n",
       "45            350\n",
       "36            344\n",
       "34            340\n",
       "35            328\n",
       "33            300\n",
       "50            299\n",
       "54            296\n",
       "53            293\n",
       "49            287\n",
       "52            284\n",
       "51            280\n",
       "55            257\n",
       "32            236\n",
       "56            235\n",
       "58            205\n",
       "57            199\n",
       "31            198\n",
       "60            182\n",
       "             ... \n",
       "69             76\n",
       "68             70\n",
       "28             69\n",
       "70             67\n",
       "71             54\n",
       "27             45\n",
       "72             44\n",
       "73             40\n",
       "74             37\n",
       "75             37\n",
       "26             28\n",
       "76             24\n",
       "77             22\n",
       "25             19\n",
       "78             15\n",
       "79             12\n",
       "83             12\n",
       "82              6\n",
       "80              6\n",
       "81              6\n",
       "24              6\n",
       "22              3\n",
       "21              2\n",
       "23              2\n",
       "88              2\n",
       "84              1\n",
       "90              1\n",
       "86              1\n",
       "20              1\n",
       "92              1\n",
       "Name: Borrower 1 Age, Length: 70, dtype: int64"
      ]
     },
     "execution_count": 99,
     "metadata": {},
     "output_type": "execute_result"
    }
   ],
   "source": [
    "df_imp['Borrower 1 Age'].value_counts()"
   ]
  },
  {
   "cell_type": "code",
   "execution_count": 100,
   "metadata": {},
   "outputs": [
    {
     "data": {
      "text/plain": [
       "(No Data)    597\n",
       "0.00         486\n",
       "10.00        289\n",
       "0.08         264\n",
       "3.00         227\n",
       "2.00         227\n",
       "5.00         217\n",
       "6.00         202\n",
       "4.00         197\n",
       "8.00         173\n",
       "12.00        162\n",
       "15.00        159\n",
       "7.00         157\n",
       "11.00        147\n",
       "20.00        136\n",
       "1.00         135\n",
       "9.00         129\n",
       "0.17         129\n",
       "13.00        124\n",
       "17.00        120\n",
       "0.50         112\n",
       "0.25         110\n",
       "14.00        108\n",
       "16.00        103\n",
       "0.33         100\n",
       "0.75          97\n",
       "2.50          91\n",
       "18.00         89\n",
       "0.58          88\n",
       "1.25          85\n",
       "            ... \n",
       "13.01          1\n",
       "15.30          1\n",
       "38.58          1\n",
       "18.70          1\n",
       "23.67          1\n",
       "0.06           1\n",
       "12.11          1\n",
       "5.30           1\n",
       "3.40           1\n",
       "0.07           1\n",
       "35.08          1\n",
       "46.33          1\n",
       "37.17          1\n",
       "27.10          1\n",
       "29.42          1\n",
       "6.40           1\n",
       "38.33          1\n",
       "30.83          1\n",
       "4.90           1\n",
       "2.11           1\n",
       "39.83          1\n",
       "28.70          1\n",
       "0.82           1\n",
       "39.17          1\n",
       "37.08          1\n",
       "38.17          1\n",
       "7.60           1\n",
       "1.30           1\n",
       "9.70           1\n",
       "6.70           1\n",
       "Name: Borrower 1 Years On Job, Length: 554, dtype: int64"
      ]
     },
     "execution_count": 100,
     "metadata": {},
     "output_type": "execute_result"
    }
   ],
   "source": [
    "df_imp['Borrower 1 Years On Job'].value_counts()"
   ]
  },
  {
   "cell_type": "code",
   "execution_count": 101,
   "metadata": {},
   "outputs": [
    {
     "data": {
      "text/plain": [
       "10.00        1009\n",
       "20.00         859\n",
       "15.00         688\n",
       "(No Data)     597\n",
       "0.00          581\n",
       "12.00         460\n",
       "5.00          457\n",
       "25.00         420\n",
       "30.00         410\n",
       "17.00         349\n",
       "11.00         328\n",
       "8.00          324\n",
       "6.00          317\n",
       "7.00          312\n",
       "18.00         291\n",
       "13.00         290\n",
       "16.00         289\n",
       "9.00          271\n",
       "4.00          263\n",
       "3.00          248\n",
       "14.00         243\n",
       "2.00          216\n",
       "22.00         197\n",
       "19.00         185\n",
       "21.00         184\n",
       "24.00         149\n",
       "23.00         145\n",
       "35.00         134\n",
       "27.00         129\n",
       "26.00         121\n",
       "             ... \n",
       "22.25           1\n",
       "23.33           1\n",
       "1.33            1\n",
       "35.75           1\n",
       "49.00           1\n",
       "25.83           1\n",
       "31.25           1\n",
       "31.42           1\n",
       "24.17           1\n",
       "8.75            1\n",
       "16.42           1\n",
       "60.00           1\n",
       "54.00           1\n",
       "26.50           1\n",
       "30.67           1\n",
       "31.33           1\n",
       "21.92           1\n",
       "37.42           1\n",
       "1.08            1\n",
       "39.17           1\n",
       "26.58           1\n",
       "1.83            1\n",
       "4.10            1\n",
       "2.92            1\n",
       "1.17            1\n",
       "34.50           1\n",
       "19.50           1\n",
       "25.08           1\n",
       "41.25           1\n",
       "27.33           1\n",
       "Name: Borrower 1 Years In Field, Length: 374, dtype: int64"
      ]
     },
     "execution_count": 101,
     "metadata": {},
     "output_type": "execute_result"
    }
   ],
   "source": [
    "df_imp['Borrower 1 Years In Field'].value_counts()"
   ]
  },
  {
   "cell_type": "code",
   "execution_count": 102,
   "metadata": {},
   "outputs": [
    {
     "data": {
      "text/plain": [
       "(No Data)      5111\n",
       "790             155\n",
       "776             135\n",
       "793             134\n",
       "779             127\n",
       "804             126\n",
       "787             126\n",
       "796             123\n",
       "797             121\n",
       "803             118\n",
       "801             115\n",
       "798             107\n",
       "788             107\n",
       "782             104\n",
       "773              99\n",
       "783              98\n",
       "792              97\n",
       "770              94\n",
       "791              92\n",
       "766              91\n",
       "786              90\n",
       "809              86\n",
       "800              86\n",
       "807              85\n",
       "794              84\n",
       "785              83\n",
       "763              83\n",
       "784              81\n",
       "808              81\n",
       "781              81\n",
       "               ... \n",
       "663               3\n",
       "694               3\n",
       "671               3\n",
       "651               3\n",
       "668               3\n",
       "658               3\n",
       "662               3\n",
       "656               2\n",
       "672               2\n",
       "640               2\n",
       "653               2\n",
       "655               2\n",
       "660               2\n",
       "Unavailable       2\n",
       "836               2\n",
       "844               2\n",
       "665               2\n",
       "629               1\n",
       "652               1\n",
       "646               1\n",
       "649               1\n",
       "645               1\n",
       "667               1\n",
       "659               1\n",
       "657               1\n",
       "673               1\n",
       "631               1\n",
       "676               1\n",
       "664               1\n",
       "674               1\n",
       "Name: Borrower 2 Experian Credit Score, Length: 198, dtype: int64"
      ]
     },
     "execution_count": 102,
     "metadata": {},
     "output_type": "execute_result"
    }
   ],
   "source": [
    "df_imp['Borrower 2 Experian Credit Score'].value_counts()"
   ]
  },
  {
   "cell_type": "code",
   "execution_count": 104,
   "metadata": {},
   "outputs": [
    {
     "data": {
      "text/plain": [
       " 0.00        7297\n",
       " 5000.00       28\n",
       " 12500.00      26\n",
       " 10000.00      21\n",
       " 7500.00       17\n",
       " 0.01          17\n",
       " 8333.33       14\n",
       " 6500.00       14\n",
       " 11250.00      13\n",
       " 2500.00       12\n",
       " 10416.67      11\n",
       " 8333.34       11\n",
       " 4333.33       10\n",
       " 6250.00       10\n",
       " 5416.67       10\n",
       " 9166.67       10\n",
       " 8750.00        8\n",
       " 15000.00       8\n",
       " 11666.67       8\n",
       " 7083.34        7\n",
       " 10416.66       7\n",
       " 5833.34        7\n",
       " 6666.66        7\n",
       " 7083.33        7\n",
       " 6000.00        7\n",
       " 13333.34       6\n",
       " 12083.33       6\n",
       " 3466.67        6\n",
       " 9000.00        6\n",
       " 9999.99        6\n",
       "             ... \n",
       " 2234.07        1\n",
       " 12177.46       1\n",
       " 15125.37       1\n",
       " 20529.05       1\n",
       " 13086.12       1\n",
       " 141.46         1\n",
       " 1900.32        1\n",
       " 11689.00       1\n",
       " 9583.29        1\n",
       " 11524.15       1\n",
       " 36653.58       1\n",
       " 8989.00        1\n",
       " 4100.92        1\n",
       " 12767.73       1\n",
       " 6166.68        1\n",
       " 12399.79       1\n",
       " 8616.25        1\n",
       "-674.00         1\n",
       " 6484.00        1\n",
       " 22550.30       1\n",
       " 13499.98       1\n",
       " 9416.58        1\n",
       " 3341.00        1\n",
       " 4483.00        1\n",
       " 17602.50       1\n",
       " 43833.33       1\n",
       " 9990.34        1\n",
       " 1263.00        1\n",
       " 16718.00       1\n",
       " 5110.55        1\n",
       "Name: Borrower 2 Total Income, Length: 4440, dtype: int64"
      ]
     },
     "execution_count": 104,
     "metadata": {},
     "output_type": "execute_result"
    }
   ],
   "source": [
    "df_imp['Borrower 2 Total Income'].value_counts()"
   ]
  },
  {
   "cell_type": "code",
   "execution_count": 105,
   "metadata": {},
   "outputs": [
    {
     "data": {
      "text/plain": [
       "(No Data)         597\n",
       "776               207\n",
       "787               194\n",
       "791               192\n",
       "790               187\n",
       "779               186\n",
       "773               185\n",
       "782               185\n",
       "777               176\n",
       "788               174\n",
       "801               170\n",
       "778               168\n",
       "770               165\n",
       "781               163\n",
       "797               161\n",
       "792               160\n",
       "783               160\n",
       "784               159\n",
       "786               159\n",
       "798               158\n",
       "763               157\n",
       "774               156\n",
       "789               154\n",
       "796               154\n",
       "766               152\n",
       "780               151\n",
       "775               148\n",
       "785               147\n",
       "800               147\n",
       "771               145\n",
       "                 ... \n",
       "695                12\n",
       "819                12\n",
       "670                11\n",
       "673                11\n",
       "674                11\n",
       "675                10\n",
       "668                10\n",
       "671                10\n",
       "669                 9\n",
       "679                 8\n",
       "664                 8\n",
       "820                 8\n",
       "665                 7\n",
       "678                 6\n",
       "823                 6\n",
       "662                 6\n",
       "666                 5\n",
       "677                 5\n",
       "667                 5\n",
       "661                 4\n",
       "822                 2\n",
       "824                 1\n",
       "839                 1\n",
       "827                 1\n",
       "Unavailable         1\n",
       "825                 1\n",
       "829                 1\n",
       "Not Applicable      1\n",
       "821                 1\n",
       "613                 1\n",
       "Name: Representative Credit Score, Length: 172, dtype: int64"
      ]
     },
     "execution_count": 105,
     "metadata": {},
     "output_type": "execute_result"
    }
   ],
   "source": [
    "df_imp['Representative Credit Score'].value_counts()"
   ]
  },
  {
   "cell_type": "code",
   "execution_count": 106,
   "metadata": {},
   "outputs": [
    {
     "data": {
      "text/plain": [
       "0.00        598\n",
       "12500.00     41\n",
       "25000.00     34\n",
       "15000.00     31\n",
       "20000.00     31\n",
       "18750.00     26\n",
       "16666.67     19\n",
       "17500.00     18\n",
       "20833.34     17\n",
       "20833.33     17\n",
       "13333.33     17\n",
       "14166.67     16\n",
       "10000.00     16\n",
       "16250.00     15\n",
       "13333.34     15\n",
       "13750.00     15\n",
       "21666.67     14\n",
       "14583.33     14\n",
       "29166.67     14\n",
       "16666.66     11\n",
       "14166.66     11\n",
       "20833.00     10\n",
       "15833.33     10\n",
       "22500.00     10\n",
       "13000.00      9\n",
       "14583.34      9\n",
       "11250.00      9\n",
       "19166.67      9\n",
       "31250.00      9\n",
       "26250.00      8\n",
       "           ... \n",
       "25307.30      1\n",
       "23642.22      1\n",
       "23401.39      1\n",
       "10099.28      1\n",
       "13625.00      1\n",
       "8705.83       1\n",
       "29407.33      1\n",
       "11093.33      1\n",
       "23376.00      1\n",
       "27127.46      1\n",
       "8250.37       1\n",
       "34891.46      1\n",
       "31521.17      1\n",
       "18326.29      1\n",
       "23575.00      1\n",
       "13684.67      1\n",
       "16143.00      1\n",
       "13833.59      1\n",
       "11505.30      1\n",
       "9590.41       1\n",
       "31994.06      1\n",
       "77899.33      1\n",
       "17906.99      1\n",
       "11944.07      1\n",
       "16448.51      1\n",
       "15931.60      1\n",
       "17978.00      1\n",
       "14256.66      1\n",
       "15857.05      1\n",
       "21826.73      1\n",
       "Name: Total Monthly Income, Length: 10817, dtype: int64"
      ]
     },
     "execution_count": 106,
     "metadata": {},
     "output_type": "execute_result"
    }
   ],
   "source": [
    "df_imp['Total Monthly Income'].value_counts()"
   ]
  },
  {
   "cell_type": "code",
   "execution_count": 107,
   "metadata": {},
   "outputs": [
    {
     "data": {
      "text/plain": [
       "0.00        597\n",
       "9947.60       3\n",
       "12362.51      2\n",
       "10679.65      2\n",
       "15322.87      2\n",
       "11187.14      2\n",
       "10974.50      2\n",
       "4651.57       2\n",
       "16125.18      2\n",
       "9887.97       2\n",
       "11613.90      2\n",
       "15373.19      2\n",
       "6539.54       2\n",
       "18282.84      2\n",
       "17319.52      2\n",
       "19640.31      2\n",
       "24663.64      2\n",
       "10337.02      2\n",
       "5257.79       2\n",
       "10594.50      2\n",
       "14175.22      2\n",
       "7411.64       2\n",
       "9493.95       2\n",
       "8601.97       2\n",
       "10647.69      2\n",
       "10982.11      2\n",
       "9707.18       2\n",
       "14926.69      2\n",
       "13350.12      2\n",
       "10345.20      2\n",
       "           ... \n",
       "13001.52      1\n",
       "20096.13      1\n",
       "6649.90       1\n",
       "12346.64      1\n",
       "8389.08       1\n",
       "11729.68      1\n",
       "11135.53      1\n",
       "8061.30       1\n",
       "13723.26      1\n",
       "12472.47      1\n",
       "12536.75      1\n",
       "14490.76      1\n",
       "13527.28      1\n",
       "20610.19      1\n",
       "20435.11      1\n",
       "17653.29      1\n",
       "6318.65       1\n",
       "8111.72       1\n",
       "9871.97       1\n",
       "8454.15       1\n",
       "14032.14      1\n",
       "7129.69       1\n",
       "29835.34      1\n",
       "14716.86      1\n",
       "7054.33       1\n",
       "8308.41       1\n",
       "17718.27      1\n",
       "24876.19      1\n",
       "9231.98       1\n",
       "5209.47       1\n",
       "Name: Total Remaining Gross Monthly Income, Length: 11681, dtype: int64"
      ]
     },
     "execution_count": 107,
     "metadata": {},
     "output_type": "execute_result"
    }
   ],
   "source": [
    "df_imp['Total Remaining Gross Monthly Income'].value_counts()"
   ]
  },
  {
   "cell_type": "code",
   "execution_count": 108,
   "metadata": {},
   "outputs": [
    {
     "data": {
      "text/plain": [
       "0.00        597\n",
       "3029.71       4\n",
       "7234.94       3\n",
       "19573.70      2\n",
       "7161.77       2\n",
       "7135.26       2\n",
       "6628.60       2\n",
       "6790.74       2\n",
       "4983.44       2\n",
       "9778.89       2\n",
       "6959.55       2\n",
       "9751.87       2\n",
       "7156.48       2\n",
       "6783.08       2\n",
       "8909.60       2\n",
       "4226.48       2\n",
       "15790.32      2\n",
       "5248.92       2\n",
       "7174.42       2\n",
       "6088.82       2\n",
       "10995.88      2\n",
       "8147.23       2\n",
       "9364.91       2\n",
       "4786.94       2\n",
       "3602.97       2\n",
       "4812.68       2\n",
       "5147.62       2\n",
       "5395.61       2\n",
       "5252.95       2\n",
       "7107.82       2\n",
       "           ... \n",
       "7651.04       1\n",
       "5335.31       1\n",
       "3252.91       1\n",
       "7413.84       1\n",
       "5559.27       1\n",
       "4201.06       1\n",
       "8436.77       1\n",
       "5581.19       1\n",
       "4751.31       1\n",
       "6056.71       1\n",
       "6765.65       1\n",
       "7253.00       1\n",
       "11052.86      1\n",
       "4115.37       1\n",
       "3113.63       1\n",
       "4074.15       1\n",
       "5278.76       1\n",
       "6087.85       1\n",
       "7312.54       1\n",
       "6524.71       1\n",
       "5892.42       1\n",
       "13113.39      1\n",
       "7017.57       1\n",
       "5037.55       1\n",
       "6720.44       1\n",
       "6679.97       1\n",
       "4908.60       1\n",
       "6782.71       1\n",
       "3428.49       1\n",
       "6833.74       1\n",
       "Name: Total Monthly Expenses, Length: 11637, dtype: int64"
      ]
     },
     "execution_count": 108,
     "metadata": {},
     "output_type": "execute_result"
    }
   ],
   "source": [
    "df_imp['Total Monthly Expenses'].value_counts()"
   ]
  },
  {
   "cell_type": "code",
   "execution_count": 109,
   "metadata": {},
   "outputs": [
    {
     "data": {
      "text/plain": [
       "0.00       652\n",
       "2334.00      5\n",
       "2813.71      5\n",
       "2778.00      3\n",
       "3500.00      3\n",
       "4777.45      3\n",
       "2053.00      3\n",
       "5275.54      2\n",
       "7826.91      2\n",
       "5968.48      2\n",
       "5187.00      2\n",
       "4943.00      2\n",
       "3901.63      2\n",
       "5087.20      2\n",
       "3252.86      2\n",
       "3644.64      2\n",
       "3485.55      2\n",
       "4912.60      2\n",
       "3504.59      2\n",
       "3153.61      2\n",
       "6349.52      2\n",
       "4054.23      2\n",
       "4706.09      2\n",
       "4291.00      2\n",
       "4537.18      2\n",
       "4866.74      2\n",
       "5000.00      2\n",
       "5956.58      2\n",
       "3304.47      2\n",
       "6027.78      2\n",
       "          ... \n",
       "4630.43      1\n",
       "4888.36      1\n",
       "5490.42      1\n",
       "4883.40      1\n",
       "7974.10      1\n",
       "2972.17      1\n",
       "4162.24      1\n",
       "4758.81      1\n",
       "5480.32      1\n",
       "7188.25      1\n",
       "3723.84      1\n",
       "3748.74      1\n",
       "4613.92      1\n",
       "2787.90      1\n",
       "7566.81      1\n",
       "5078.95      1\n",
       "1546.69      1\n",
       "2733.00      1\n",
       "5311.64      1\n",
       "4375.44      1\n",
       "6091.31      1\n",
       "5652.06      1\n",
       "5585.82      1\n",
       "4534.81      1\n",
       "2866.38      1\n",
       "6214.10      1\n",
       "6909.30      1\n",
       "5339.24      1\n",
       "3569.27      1\n",
       "3129.63      1\n",
       "Name: Primary Residence Expense, Length: 11499, dtype: int64"
      ]
     },
     "execution_count": 109,
     "metadata": {},
     "output_type": "execute_result"
    }
   ],
   "source": [
    "df_imp['Primary Residence Expense'].value_counts()"
   ]
  },
  {
   "cell_type": "code",
   "execution_count": 112,
   "metadata": {},
   "outputs": [
    {
     "data": {
      "text/plain": [
       "Full Doc     10981\n",
       "(No Data)     1143\n",
       "Full           184\n",
       "Name: Loan Doc Type, dtype: int64"
      ]
     },
     "execution_count": 112,
     "metadata": {},
     "output_type": "execute_result"
    }
   ],
   "source": [
    "df_imp['Loan Doc Type'].value_counts()"
   ]
  },
  {
   "cell_type": "code",
   "execution_count": 116,
   "metadata": {},
   "outputs": [
    {
     "data": {
      "text/plain": [
       "Conventional    12308\n",
       "Name: Loan Type, dtype: int64"
      ]
     },
     "execution_count": 116,
     "metadata": {},
     "output_type": "execute_result"
    }
   ],
   "source": [
    "df_imp['Loan Type'].value_counts()"
   ]
  }
 ],
 "metadata": {
  "kernelspec": {
   "display_name": "Python 3",
   "language": "python",
   "name": "python3"
  },
  "language_info": {
   "codemirror_mode": {
    "name": "ipython",
    "version": 3
   },
   "file_extension": ".py",
   "mimetype": "text/x-python",
   "name": "python",
   "nbconvert_exporter": "python",
   "pygments_lexer": "ipython3",
   "version": "3.6.5"
  }
 },
 "nbformat": 4,
 "nbformat_minor": 2
}
